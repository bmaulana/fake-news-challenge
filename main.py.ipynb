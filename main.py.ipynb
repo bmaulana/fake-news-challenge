{
 "cells": [
  {
   "cell_type": "code",
   "execution_count": 30,
   "metadata": {},
   "outputs": [],
   "source": [
    "import csv\n",
    "import matplotlib.pyplot as plt\n",
    "import numpy as np\n",
    "import random\n",
    "from data.scorer import score_submission, print_confusion_matrix\n",
    "from scipy import sparse\n",
    "from scipy.spatial.distance import cosine\n",
    "from scipy.stats import entropy\n",
    "from sklearn.ensemble import GradientBoostingClassifier\n",
    "from sklearn.feature_extraction.text import CountVectorizer, TfidfVectorizer\n",
    "from sklearn.metrics import confusion_matrix\n",
    "from sklearn.preprocessing import LabelEncoder\n",
    "from tqdm import tqdm"
   ]
  },
  {
   "cell_type": "code",
   "execution_count": 2,
   "metadata": {},
   "outputs": [],
   "source": [
    "# Load data from CSV\n",
    "f_bodies = open('data/train_bodies.csv', 'r', encoding='utf-8')\n",
    "csv_bodies = csv.DictReader(f_bodies)\n",
    "bodies = []\n",
    "for row in csv_bodies:\n",
    "    body_id = int(row['Body ID'])\n",
    "    if (body_id + 1) > len(bodies):\n",
    "        bodies += [None] * (body_id + 1 - len(bodies))\n",
    "    bodies[body_id] = row['articleBody']\n",
    "f_bodies.close()\n",
    "\n",
    "all_unrelated, all_discuss, all_agree, all_disagree = [], [], [], []  # each article = (headline, body, stance)\n",
    "\n",
    "f_stances = open('data/train_stances.csv', 'r', encoding='utf-8')\n",
    "csv_stances = csv.DictReader(f_stances)\n",
    "for row in csv_stances:\n",
    "    body = bodies[int(row['Body ID'])]\n",
    "    if row['Stance'] == 'unrelated':\n",
    "        all_unrelated.append((row['Headline'], body, row['Stance']))\n",
    "    elif row['Stance'] == 'discuss':\n",
    "        all_discuss.append((row['Headline'], body, row['Stance']))\n",
    "    elif row['Stance'] == 'agree':\n",
    "        all_agree.append((row['Headline'], body, row['Stance']))\n",
    "    elif row['Stance'] == 'disagree':\n",
    "        all_disagree.append((row['Headline'], body, row['Stance']))\n",
    "f_stances.close()"
   ]
  },
  {
   "cell_type": "code",
   "execution_count": 3,
   "metadata": {},
   "outputs": [
    {
     "name": "stdout",
     "output_type": "stream",
     "text": [
      "\tUnrltd\tDiscuss\t Agree\tDisagree\n",
      "All\t 36545 \t 8909 \t 3678 \t 840\n",
      "Train\t 32890 \t 8018 \t 3310 \t 756\n",
      "Valid.\t 3655 \t 891 \t 368 \t 84\n",
      "Train (Total) (44974, 3) \tValidation (Total) (4998, 3)\n"
     ]
    }
   ],
   "source": [
    "# Split to train and validation\n",
    "print('\\tUnrltd\\tDiscuss\\t Agree\\tDisagree')\n",
    "print('All\\t', len(all_unrelated), '\\t', len(all_discuss), '\\t', len(all_agree), '\\t', len(all_disagree))\n",
    "\n",
    "train_unrelated = all_unrelated[:len(all_unrelated) * 9 // 10]\n",
    "train_discuss = all_discuss[:len(all_discuss) * 9 // 10]\n",
    "train_agree = all_agree[:len(all_agree) * 9 // 10]\n",
    "train_disagree = all_disagree[:len(all_disagree) * 9 // 10]\n",
    "\n",
    "val_unrelated = all_unrelated[len(all_unrelated) * 9 // 10:]\n",
    "val_discuss = all_discuss[len(all_discuss) * 9 // 10:]\n",
    "val_agree = all_agree[len(all_agree) * 9 // 10:]\n",
    "val_disagree = all_disagree[len(all_disagree) * 9 // 10:]\n",
    "\n",
    "print('Train\\t', len(train_unrelated), '\\t', len(train_discuss), '\\t', len(train_agree), '\\t', len(train_disagree))\n",
    "print('Valid.\\t', len(val_unrelated), '\\t', len(val_discuss), '\\t', len(val_agree), '\\t', len(val_disagree))\n",
    "\n",
    "train_all = np.array(train_unrelated + train_discuss + train_agree + train_disagree)  # each article = (headline, body, stance)\n",
    "random.Random(0).shuffle(train_all)\n",
    "val_all = np.array(val_unrelated + val_discuss + val_agree + val_disagree)\n",
    "random.Random(0).shuffle(val_all)\n",
    "print('Train (Total)', train_all.shape, '\\tValidation (Total)', val_all.shape)"
   ]
  },
  {
   "cell_type": "code",
   "execution_count": 4,
   "metadata": {},
   "outputs": [
    {
     "name": "stderr",
     "output_type": "stream",
     "text": [
      "400000it [00:10, 36716.65it/s]\n"
     ]
    }
   ],
   "source": [
    "# Load GLoVe word vectors\n",
    "f_glove = open(\"data/glove.6B.50d.txt\", \"rb\")  # download from https://nlp.stanford.edu/projects/glove/\n",
    "# also try if higher-dimension/higher-vocabulary GLoVe vectors work better\n",
    "glove_vectors = {}\n",
    "for line in tqdm(f_glove):\n",
    "    glove_vectors[str(line.split()[0]).split(\"'\")[1]] = np.array(list(map(float, line.split()[1:])))\n",
    "# for key, value in glove_vectors.items():\n",
    "#    print(key, value)\n",
    "#    break"
   ]
  },
  {
   "cell_type": "code",
   "execution_count": 5,
   "metadata": {},
   "outputs": [],
   "source": [
    "# Corpus of article bodies and headlines in training dataset\n",
    "corpus = np.r_[train_all[:, 1], train_all[:, 0]]  # 0 to 44973 are bodies, 44974 to 89943 are headlines"
   ]
  },
  {
   "cell_type": "code",
   "execution_count": 6,
   "metadata": {},
   "outputs": [
    {
     "name": "stdout",
     "output_type": "stream",
     "text": [
      "(89948, 20799)\n"
     ]
    }
   ],
   "source": [
    "# Convert documents in training set to tf-idf form, to learn idf weights\n",
    "tf_idf_vec = TfidfVectorizer(stop_words='english')\n",
    "tf_idf = tf_idf_vec.fit_transform(corpus)\n",
    "# print(tf_idf[0])\n",
    "print(tf_idf.shape)  # (2 x no of docs, no of words)"
   ]
  },
  {
   "cell_type": "code",
   "execution_count": 8,
   "metadata": {},
   "outputs": [
    {
     "name": "stdout",
     "output_type": "stream",
     "text": [
      "[(5053, 'danny'), (2708, 'boyle'), (5644, 'directing'), (19518, 'untitled'), (7300, 'film')]\n"
     ]
    }
   ],
   "source": [
    "# Create index of column indices in tf_idf -> word\n",
    "col_to_word = {i[1]: i[0] for i in tf_idf_vec.vocabulary_.items()}\n",
    "print(list(col_to_word.items())[:5])\n",
    "# vocab = tf_idf_vec.vocabulary_\n",
    "# print(list(vocab.items())[:5])\n",
    "# idf = {word: tf_idf_vec.idf_[vocab[word]] for word in vocab}\n",
    "# print(list(idf.items())[:5])"
   ]
  },
  {
   "cell_type": "code",
   "execution_count": 9,
   "metadata": {},
   "outputs": [
    {
     "name": "stdout",
     "output_type": "stream",
     "text": [
      "Police find mass graves with at least '15 bodies' near Mexico town where 43 students disappeared after police clash\n",
      "[ 0.47652574  0.15633352  0.25602913 -0.19311895  0.39107372 -0.09225691\n",
      " -0.47849956  0.29251285 -0.05260734 -0.56005885 -0.18050908 -0.93081016\n",
      " -0.13261856 -0.27802095  0.38902006 -0.33386134 -0.0752241  -0.052203\n",
      " -0.63992654 -0.00285749 -0.08546589  0.41104833  0.30068364  0.25943828\n",
      " -0.34389954 -1.0931871  -0.01506798 -0.01150553  0.01236759 -0.16720866\n",
      "  2.4219833  -0.07390802 -0.14294697 -0.53846581  0.29550195  0.21443383\n",
      "  0.09993475 -0.23291546  0.29500588  0.46207828 -0.35535643  0.11600904\n",
      "  0.53226202 -0.14373727  0.17263966  0.02059307 -0.37912627 -0.31349511\n",
      "  0.05154484 -0.63092463]\n"
     ]
    }
   ],
   "source": [
    "# Function to convert a document to GloVe vectors, by computing tf-idf of each word * GLoVe of word / total tf-idf for document\n",
    "def doc_to_glove(doc):\n",
    "    doc_tf_idf = tf_idf_vec.transform([doc])\n",
    "    # print(doc_tf_idf[:10])\n",
    "    _, cols = doc_tf_idf[0].nonzero()\n",
    "    doc_vector = np.array([0.0]*50)\n",
    "    sum_tf_idf = 0\n",
    "    for col in cols:\n",
    "        word = col_to_word[col]\n",
    "        if word in glove_vectors:\n",
    "            # print(word, tf_idf[row, col], glove_vectors[word])\n",
    "            doc_vector += glove_vectors[word] * doc_tf_idf[0, col]\n",
    "            sum_tf_idf += doc_tf_idf[0, col]\n",
    "    doc_vector /= sum_tf_idf\n",
    "    return doc_vector\n",
    "print(train_all[0,0])\n",
    "print(doc_to_glove(train_all[0,0]))"
   ]
  },
  {
   "cell_type": "code",
   "execution_count": 10,
   "metadata": {},
   "outputs": [
    {
     "name": "stdout",
     "output_type": "stream",
     "text": [
      "0.6041313590608994 unrelated\n",
      "0.24895782205856776 discuss\n",
      "0.9196754971723358 agree\n",
      "0.7368743872008978 disagree\n",
      "0.7266145364505545 unrelated\n",
      "0.9023180628317361 discuss\n",
      "0.9735027019578287 agree\n",
      "0.8635208307604029 disagree\n",
      "0.7222370788802452 unrelated\n",
      "0.646046657770193 discuss\n",
      "0.7877049284556761 agree\n",
      "0.8985286329733262 disagree\n"
     ]
    }
   ],
   "source": [
    "# Compute cosine similarity of GLoVe vectors for all headline-body pairs\n",
    "def cosine_similarity(doc):\n",
    "    return 1.0 - cosine(doc_to_glove(doc[0]), doc_to_glove(doc[1]))\n",
    "\n",
    "for i in range(3):\n",
    "    # unrelated should have lower than rest\n",
    "    print(cosine_similarity(train_unrelated[i]), train_unrelated[i][2])\n",
    "    print(cosine_similarity(train_discuss[i]), train_discuss[i][2])\n",
    "    print(cosine_similarity(train_agree[i]), train_agree[i][2])\n",
    "    print(cosine_similarity(train_disagree[i]), train_disagree[i][2])"
   ]
  },
  {
   "cell_type": "code",
   "execution_count": 11,
   "metadata": {},
   "outputs": [
    {
     "name": "stdout",
     "output_type": "stream",
     "text": [
      "2.2421928074409267 unrelated\n",
      "0.479894355489675 discuss\n",
      "0.5407556403764514 agree\n",
      "0.6175466808956873 disagree\n",
      "2.105629707644302 unrelated\n",
      "0.7752545628785796 discuss\n",
      "0.2499349000374513 agree\n",
      "0.6865857393496952 disagree\n",
      "2.3522580822308106 unrelated\n",
      "0.4427468737072708 discuss\n",
      "0.6723350971857744 agree\n",
      "0.3592030611740746 disagree\n"
     ]
    }
   ],
   "source": [
    "# Compute the KL-Divergence of language model (LM) representations of the headline and the body\n",
    "eps = 0.1  # add a small value for every common word in the LM, as KL-divergence won't work if there are 0 values\n",
    "def kl_divergence(doc):\n",
    "    # Convert body and headline to bag of words representations\n",
    "    vec = CountVectorizer(stop_words='english')\n",
    "    vec_all = vec.fit_transform([doc[0], doc[1]])\n",
    "    vec_headline = np.squeeze(np.array(vec_all[0].todense()))\n",
    "    vec_body = np.squeeze(np.array(vec_all[1].todense()))\n",
    "    \n",
    "    # Compute a simple unigram LM of headline and body using bag of words / no. of words in doc\n",
    "    lm_headline = (vec_headline + eps) / np.sum(vec_headline)\n",
    "    lm_body = (vec_body + eps) / np.sum(vec_body)\n",
    "    \n",
    "    # Return KL-divergence of lm_\n",
    "    return entropy(lm_headline, lm_body)\n",
    "\n",
    "for i in range(3):\n",
    "    # unrelated should have higher than rest\n",
    "    print(kl_divergence(train_unrelated[i]), train_unrelated[i][2])\n",
    "    print(kl_divergence(train_discuss[i]), train_discuss[i][2])\n",
    "    print(kl_divergence(train_agree[i]), train_agree[i][2])\n",
    "    print(kl_divergence(train_disagree[i]), train_disagree[i][2])"
   ]
  },
  {
   "cell_type": "code",
   "execution_count": 12,
   "metadata": {},
   "outputs": [],
   "source": [
    "# TODO other features (use fnc-baseline's n-grams + entities (maybe polarity of sentences containing entities in body also))"
   ]
  },
  {
   "cell_type": "code",
   "execution_count": 13,
   "metadata": {},
   "outputs": [
    {
     "name": "stderr",
     "output_type": "stream",
     "text": [
      "100%|████████████████████████████████████████████████████████████████████████████| 44974/44974 [08:44<00:00, 85.73it/s]\n"
     ]
    },
    {
     "name": "stdout",
     "output_type": "stream",
     "text": [
      "[[0.60413136 2.24219281]\n",
      " [0.60413136 2.24219281]\n",
      " [0.72223708 2.35225808]\n",
      " [0.84657817 1.04562537]\n",
      " [0.60413136 2.24219281]]\n",
      "[3 3 3 3 3]\n"
     ]
    }
   ],
   "source": [
    "# Define function to convert (headline, body) to feature vectors for each document\n",
    "ftrs = [cosine_similarity, kl_divergence]\n",
    "def to_feature_array(doc):\n",
    "    vec = np.array([0.0] * len(ftrs))\n",
    "    for i in range(len(ftrs)):\n",
    "        vec[i] = ftrs[i](doc)\n",
    "    return vec\n",
    "\n",
    "# Initialise x and y for train dataset\n",
    "x_train = np.array([to_feature_array(doc) for doc in tqdm(train_all)])\n",
    "print(x_train[:5])\n",
    "\n",
    "le = LabelEncoder()\n",
    "y_train = le.fit_transform(list(train_all[:, 2]))\n",
    "print(y_train[:5])"
   ]
  },
  {
   "cell_type": "code",
   "execution_count": 15,
   "metadata": {},
   "outputs": [
    {
     "name": "stdout",
     "output_type": "stream",
     "text": [
      "[('b', 'agree'), ('g', 'disagree'), ('r', 'discuss'), ('y', 'unrelated')]\n"
     ]
    },
    {
     "data": {
      "image/png": "[encoded data removed]",
      "text/plain": [
       "<matplotlib.figure.Figure at 0x151bf186390>"
      ]
     },
     "metadata": {},
     "output_type": "display_data"
    }
   ],
   "source": [
    "# Plot GLoVe distance vs KL-Divergence on a coloured scatter plot with different colours for each label\n",
    "colours = np.array(['b', 'g', 'r', 'y'])\n",
    "plt.scatter(list(x_train[:, 0]), list(x_train[:, 1]), c=colours[y_train])\n",
    "plt.xlabel('Cosine Similarity of GLoVe vectors')\n",
    "plt.ylabel('KL Divergence of Unigram LMs')\n",
    "print([(colours[i], le.classes_[i]) for i in range(len(le.classes_))])\n",
    "plt.show()"
   ]
  },
  {
   "cell_type": "code",
   "execution_count": 16,
   "metadata": {},
   "outputs": [
    {
     "name": "stdout",
     "output_type": "stream",
     "text": [
      "      Iter       Train Loss   Remaining Time \n",
      "         1       30970.9259           22.10s\n",
      "         2       26682.6466           19.41s\n",
      "         3       23157.0273           18.39s\n",
      "         4       20232.1912           17.74s\n",
      "         5       17790.0845           17.12s\n",
      "         6       15743.9991           16.91s\n",
      "         7       14016.2216           16.65s\n",
      "         8       12553.0982           16.44s\n",
      "         9       11305.2716           16.26s\n",
      "        10       10249.8714           16.11s\n",
      "        20        5380.8799           14.99s\n",
      "        30        4275.9670           13.83s\n",
      "        40        3964.5386           12.70s\n",
      "        50        3813.6782           11.82s\n",
      "        60        3709.0191           10.89s\n",
      "        70        3620.4136           10.03s\n",
      "        80        3543.6376            9.19s\n",
      "        90        3485.6605            8.37s\n",
      "       100        3437.6523            7.57s\n",
      "       200        3008.7798            0.00s\n"
     ]
    },
    {
     "data": {
      "text/plain": [
       "GradientBoostingClassifier(criterion='friedman_mse', init=None,\n",
       "              learning_rate=0.1, loss='deviance', max_depth=3,\n",
       "              max_features=None, max_leaf_nodes=None,\n",
       "              min_impurity_decrease=0.0, min_impurity_split=None,\n",
       "              min_samples_leaf=1, min_samples_split=2,\n",
       "              min_weight_fraction_leaf=0.0, n_estimators=200,\n",
       "              presort='auto', random_state=14128, subsample=1.0,\n",
       "              verbose=True, warm_start=False)"
      ]
     },
     "execution_count": 16,
     "metadata": {},
     "output_type": "execute_result"
    }
   ],
   "source": [
    "# TODO implement linear/logistic regression classifier using these features. Optimise params on validation set\n",
    "clf = GradientBoostingClassifier(n_estimators=200, random_state=14128, verbose=True)  # TODO temporary classifier\n",
    "clf.fit(x_train, y_train)"
   ]
  },
  {
   "cell_type": "code",
   "execution_count": 17,
   "metadata": {},
   "outputs": [
    {
     "name": "stderr",
     "output_type": "stream",
     "text": [
      "100%|██████████████████████████████████████████████████████████████████████████████| 4998/4998 [00:57<00:00, 87.10it/s]\n"
     ]
    },
    {
     "name": "stdout",
     "output_type": "stream",
     "text": [
      "[[0.51601687 1.65924808]\n",
      " [0.51601687 1.65924808]\n",
      " [0.51601687 1.65924808]\n",
      " [0.51601687 1.65924808]\n",
      " [0.72657687 1.99851117]]\n",
      "[3 3 3 3 3]\n"
     ]
    }
   ],
   "source": [
    "# Initialise x and y for validation dataset\n",
    "x_val = np.array([to_feature_array(doc) for doc in tqdm(val_all)])\n",
    "print(x_val[:5])\n",
    "\n",
    "y_val = le.transform(list(val_all[:, 2]))\n",
    "print(y_val[:5])"
   ]
  },
  {
   "cell_type": "code",
   "execution_count": 19,
   "metadata": {},
   "outputs": [
    {
     "name": "stdout",
     "output_type": "stream",
     "text": [
      "[3 3 3 3 3]\n"
     ]
    }
   ],
   "source": [
    "# Predict y for validation set\n",
    "y_pred = clf.predict(x_val)\n",
    "print(y_pred[:5])"
   ]
  },
  {
   "cell_type": "code",
   "execution_count": 31,
   "metadata": {},
   "outputs": [
    {
     "name": "stderr",
     "output_type": "stream",
     "text": [
      "C:\\Users\\user\\Anaconda3\\envs\\fnc\\lib\\site-packages\\sklearn\\preprocessing\\label.py:151: DeprecationWarning: The truth value of an empty array is ambiguous. Returning False, but in future this will result in an error. Use `array.size > 0` to check that an array is not empty.\n",
      "  if diff:\n",
      "C:\\Users\\user\\Anaconda3\\envs\\fnc\\lib\\site-packages\\sklearn\\preprocessing\\label.py:151: DeprecationWarning: The truth value of an empty array is ambiguous. Returning False, but in future this will result in an error. Use `array.size > 0` to check that an array is not empty.\n",
      "  if diff:\n"
     ]
    },
    {
     "data": {
      "text/plain": [
       "array([[   0,    0,   13,    9],\n",
       "       [   0,    0,    1,    0],\n",
       "       [   2,    0,   87,   78],\n",
       "       [   1,    1,   39, 4767]], dtype=int64)"
      ]
     },
     "execution_count": 31,
     "metadata": {},
     "output_type": "execute_result"
    }
   ],
   "source": [
    "# Compare y_pred and y for validation set\n",
    "actual = le.inverse_transform(y_val)\n",
    "predicted = le.inverse_transform(y_pred)\n",
    "confusion_matrix(actual, predicted)\n",
    "# TODO save to .csv (see data/scorer.py)\n",
    "# score, cm = score_submission(actual, predicted)\n",
    "# print(score)\n",
    "# print_confusion_matrix(cm)"
   ]
  },
  {
   "cell_type": "code",
   "execution_count": null,
   "metadata": {},
   "outputs": [],
   "source": [
    "# TODO analyse importance of each feature"
   ]
  },
  {
   "cell_type": "code",
   "execution_count": null,
   "metadata": {},
   "outputs": [],
   "source": [
    "# Unused code, could be useful again later\n",
    "\n",
    "# Generate language model representations of headlines and bodies (bag of words / no. of words in doc for a 1-gram LM)\n",
    "# Sparse matrix division, because regular '/' would convert it to dense which will run out of memory\n",
    "# Equivalent to lang_models = bag_of_words/bag_of_words.sum(axis=1)[:, 0] \n",
    "# (Credit to https://stackoverflow.com/questions/42225269/scipy-sparse-matrix-division)\n",
    "b = sparse.bsr_matrix(bag_of_words)\n",
    "c = sparse.diags(1/b.sum(axis=1).A.ravel())\n",
    "lang_models = c @ b\n",
    "\n",
    "print(lang_models.sum(axis=1)) # every element should be 1\n",
    "print(lang_models.shape, bag_of_words.shape)"
   ]
  }
 ],
 "metadata": {
  "kernelspec": {
   "display_name": "Python 3",
   "language": "python",
   "name": "python3"
  },
  "language_info": {
   "codemirror_mode": {
    "name": "ipython",
    "version": 3
   },
   "file_extension": ".py",
   "mimetype": "text/x-python",
   "name": "python",
   "nbconvert_exporter": "python",
   "pygments_lexer": "ipython3",
   "version": "3.6.4"
  }
 },
 "nbformat": 4,
 "nbformat_minor": 2
}
