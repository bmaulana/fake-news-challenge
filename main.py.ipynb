{
 "cells": [
  {
   "cell_type": "code",
   "execution_count": 1,
   "metadata": {},
   "outputs": [],
   "source": [
    "import csv\n",
    "import math\n",
    "import matplotlib.pyplot as plt\n",
    "import numpy as np\n",
    "import random\n",
    "import re\n",
    "from collections import defaultdict\n",
    "from data.scorer import score_submission, print_confusion_matrix, score_defaults, SCORE_REPORT\n",
    "from nltk import word_tokenize\n",
    "from nltk.corpus import stopwords\n",
    "from tqdm import tqdm\n",
    "\n",
    "# NOTE: Requires these following libraries:\n",
    "# 'pip install matplotlib'  (Plotting)\n",
    "# 'pip install numpy'  (Maths, Arrays/Matrices)\n",
    "# 'pip install nltk'  (Pre-processing)\n",
    "# 'pip install tqdm'  (Loading bars)"
   ]
  },
  {
   "cell_type": "code",
   "execution_count": 2,
   "metadata": {},
   "outputs": [],
   "source": [
    "# Load training data from CSV\n",
    "f_bodies = open('data/train_bodies.csv', 'r', encoding='utf-8')\n",
    "csv_bodies = csv.DictReader(f_bodies)\n",
    "bodies = []\n",
    "for row in csv_bodies:\n",
    "    body_id = int(row['Body ID'])\n",
    "    if (body_id + 1) > len(bodies):\n",
    "        bodies += [None] * (body_id + 1 - len(bodies))\n",
    "    bodies[body_id] = row['articleBody']\n",
    "f_bodies.close()\n",
    "body_inverse_index = {bodies[i]: i for i in range(len(bodies))}\n",
    "\n",
    "all_unrelated, all_discuss, all_agree, all_disagree = [], [], [], []  # each article = (headline, body, stance)\n",
    "\n",
    "f_stances = open('data/train_stances.csv', 'r', encoding='utf-8')\n",
    "csv_stances = csv.DictReader(f_stances)\n",
    "for row in csv_stances:\n",
    "    body = bodies[int(row['Body ID'])]\n",
    "    if row['Stance'] == 'unrelated':\n",
    "        all_unrelated.append((row['Headline'], body, row['Stance']))\n",
    "    elif row['Stance'] == 'discuss':\n",
    "        all_discuss.append((row['Headline'], body, row['Stance']))\n",
    "    elif row['Stance'] == 'agree':\n",
    "        all_agree.append((row['Headline'], body, row['Stance']))\n",
    "    elif row['Stance'] == 'disagree':\n",
    "        all_disagree.append((row['Headline'], body, row['Stance']))\n",
    "f_stances.close()"
   ]
  },
  {
   "cell_type": "code",
   "execution_count": 3,
   "metadata": {},
   "outputs": [
    {
     "name": "stdout",
     "output_type": "stream",
     "text": [
      "\tUnrltd\tDiscuss\t Agree\tDisagree\n",
      "All\t 36545 \t 8909 \t 3678 \t 840\n",
      "Train\t 32890 \t 8018 \t 3310 \t 756\n",
      "Valid.\t 3655 \t 891 \t 368 \t 84\n"
     ]
    }
   ],
   "source": [
    "# Split to train and validation 9:1\n",
    "print('\\tUnrltd\\tDiscuss\\t Agree\\tDisagree')\n",
    "print('All\\t', len(all_unrelated), '\\t', len(all_discuss), '\\t', len(all_agree), '\\t', len(all_disagree))\n",
    "\n",
    "train_unrelated = all_unrelated[:len(all_unrelated) * 9 // 10]\n",
    "train_discuss = all_discuss[:len(all_discuss) * 9 // 10]\n",
    "train_agree = all_agree[:len(all_agree) * 9 // 10]\n",
    "train_disagree = all_disagree[:len(all_disagree) * 9 // 10]\n",
    "\n",
    "val_unrelated = all_unrelated[len(all_unrelated) * 9 // 10:]\n",
    "val_discuss = all_discuss[len(all_discuss) * 9 // 10:]\n",
    "val_agree = all_agree[len(all_agree) * 9 // 10:]\n",
    "val_disagree = all_disagree[len(all_disagree) * 9 // 10:]\n",
    "\n",
    "print('Train\\t', len(train_unrelated), '\\t', len(train_discuss), '\\t', len(train_agree), '\\t', len(train_disagree))\n",
    "print('Valid.\\t', len(val_unrelated), '\\t', len(val_discuss), '\\t', len(val_agree), '\\t', len(val_disagree))"
   ]
  },
  {
   "cell_type": "code",
   "execution_count": 4,
   "metadata": {},
   "outputs": [
    {
     "name": "stdout",
     "output_type": "stream",
     "text": [
      "Train (Total) (44974, 3) \tValidation (Total) (4998, 3)\n",
      "32890 \t 8018 \t 3310 \t 756\n",
      "3655 \t 891 \t 368 \t 84\n"
     ]
    }
   ],
   "source": [
    "train_all = train_unrelated + train_discuss + train_agree + train_disagree  # each article = (headline, body, stance)\n",
    "random.Random(0).shuffle(train_all)\n",
    "train_all = np.array(train_all)\n",
    "\n",
    "val_all = val_unrelated + val_discuss + val_agree + val_disagree\n",
    "random.Random(0).shuffle(val_all)\n",
    "val_all = np.array(val_all)\n",
    "\n",
    "print('Train (Total)', train_all.shape, '\\tValidation (Total)', val_all.shape)\n",
    "print(np.count_nonzero(train_all[:, 2] == 'unrelated'), '\\t',\n",
    "      np.count_nonzero(train_all[:, 2] == 'discuss'), '\\t',\n",
    "      np.count_nonzero(train_all[:, 2] == 'agree'), '\\t',\n",
    "      np.count_nonzero(train_all[:, 2] == 'disagree'))\n",
    "print(np.count_nonzero(val_all[:, 2] == 'unrelated'), '\\t',\n",
    "      np.count_nonzero(val_all[:, 2] == 'discuss'), '\\t',\n",
    "      np.count_nonzero(val_all[:, 2] == 'agree'), '\\t',\n",
    "      np.count_nonzero(val_all[:, 2] == 'disagree'))"
   ]
  },
  {
   "cell_type": "code",
   "execution_count": 5,
   "metadata": {},
   "outputs": [
    {
     "name": "stdout",
     "output_type": "stream",
     "text": [
      "Al Qaida hostage killed in raid ['al', 'qaida', 'hostage', 'killed', 'raid']\n",
      "UPDATE: Internet report of Ebola outbreak in Purdon not true ['update', 'internet', 'report', 'ebola', 'outbreak', 'purdon', 'true']\n",
      "Christian Bale Won't Play Steve Jobs After All ['christian', 'bale', 'wont', 'play', 'steve', 'jobs']\n",
      "#RIPFidel fuels false rumors of Cuban leader's death after another Fidel Castro dies ['ripfidel', 'fuels', 'false', 'rumors', 'cuban', 'leaders', 'death', 'another', 'fidel', 'castro', 'dies']\n",
      "Boko Haram claims to have German hostage, denies ceasefire ['boko', 'haram', 'claims', 'german', 'hostage', 'denies', 'ceasefire']\n",
      "Batmobile Stolen From 'Batman V Superman: Dawn Of Justice' Set? Report Claims That One Of The Batmobile Models Is Missing! Detroit Locals Responsible? ['batmobile', 'stolen', 'batman', 'v', 'superman', 'dawn', 'justice', 'set', 'report', 'claims', 'one', 'batmobile', 'models', 'missing', 'detroit', 'locals', 'responsible']\n",
      "Report: ISIS kidnaps Canadian-Israeli, former IDF soldier who went to fight with the Kurds ['report', 'isis', 'kidnaps', 'canadian', 'israeli', 'former', 'idf', 'soldier', 'went', 'fight', 'kurds']\n",
      "Accused Boston Marathon Bomber Severely Injured In Prison, May Never Walk Or Talk Again ['accused', 'boston', 'marathon', 'bomber', 'severely', 'injured', 'prison', 'may', 'never', 'walk', 'talk']\n",
      "ISIS Appears To Behead American Photojournalist In YouTube Video ['isis', 'appears', 'behead', 'american', 'photojournalist', 'youtube', 'video']\n"
     ]
    }
   ],
   "source": [
    "# Tokenise text\n",
    "pattern = re.compile(\"[^a-zA-Z0-9 ]+\")  # strip punctuation, symbols, etc.\n",
    "stop_words = set(stopwords.words('english'))\n",
    "def tokenise(text):\n",
    "    text = pattern.sub('', text.replace('\\n', ' ').replace('-', ' ').lower())\n",
    "    text = [word for word in word_tokenize(text) if word not in stop_words]\n",
    "    return text\n",
    "\n",
    "for i in range(9):\n",
    "    print(train_all[i, 0], tokenise(train_all[i, 0]))"
   ]
  },
  {
   "cell_type": "code",
   "execution_count": 6,
   "metadata": {},
   "outputs": [
    {
     "name": "stdout",
     "output_type": "stream",
     "text": [
      "Al Qaida hostage killed in raid defaultdict(<class 'float'>, {'qaida': 1.0, 'hostage': 1.0, 'killed': 1.0, 'raid': 1.0})\n",
      "UPDATE: Internet report of Ebola outbreak in Purdon not true defaultdict(<class 'float'>, {'internet': 1.0, 'report': 1.0, 'ebola': 1.0, 'outbreak': 1.0, 'purdon': 1.0, 'true': 1.0})\n",
      "Christian Bale Won't Play Steve Jobs After All defaultdict(<class 'float'>, {'bale': 1.0, 'wont': 1.0, 'play': 1.0, 'steve': 1.0, 'jobs': 1.0})\n",
      "#RIPFidel fuels false rumors of Cuban leader's death after another Fidel Castro dies defaultdict(<class 'float'>, {'fuels': 1.0, 'false': 1.0, 'rumors': 1.0, 'cuban': 1.0, 'leaders': 1.0, 'death': 1.0, 'another': 1.0, 'fidel': 1.0, 'castro': 1.0, 'dies': 1.0})\n",
      "Boko Haram claims to have German hostage, denies ceasefire defaultdict(<class 'float'>, {'haram': 1.0, 'claims': 1.0, 'german': 1.0, 'hostage': 1.0, 'denies': 1.0, 'ceasefire': 1.0})\n",
      "Al Qaida hostage killed in raid defaultdict(<class 'float'>, {('qaida',): 1.0, ('hostage',): 1.0, ('hostage', 'qaida'): 1.0, ('killed',): 1.0, ('killed', 'hostage'): 1.0, ('raid',): 1.0, ('raid', 'killed'): 1.0})\n"
     ]
    }
   ],
   "source": [
    "# Compute term-frequency of words in documents\n",
    "def doc_to_tf(text, ngram=1):\n",
    "    words = tokenise(text)\n",
    "    ret = defaultdict(float)\n",
    "    for i in range(len(words)):\n",
    "        for j in range(1, ngram+1):\n",
    "            if i - j < 0:\n",
    "                break\n",
    "            word = [words[i-k] for k in range(j)]\n",
    "            ret[word[0] if ngram == 1 else tuple(word)] += 1.0\n",
    "    return ret\n",
    "    \n",
    "for i in range(5):\n",
    "    print(train_all[i, 0], doc_to_tf(train_all[i, 0]))\n",
    "print(train_all[0, 0], doc_to_tf(train_all[0, 0], ngram=2))"
   ]
  },
  {
   "cell_type": "code",
   "execution_count": 7,
   "metadata": {},
   "outputs": [
    {
     "name": "stdout",
     "output_type": "stream",
     "text": [
      "Al Qaida hostage killed in raid\n",
      "An attorney representing a man who says he realized he had inadvertently recorded audio of the Michael Brown shooting has provided that audio to CNN:\n",
      "\n",
      "Attorney Lopa Blumenthal says the recording was made during a video chat. The audio captures what seem like 10 gunshot sounds—an initial group of six, then a pause, then four more. An autopsy of Brown's body performed at his family's request by an experienced forensic pathologist named Michael Baden indicated Brown was hit by at least six shots.\n",
      "\n",
      "Eyewitness Dorian Johnson, a friend of Brown's, has said that officer Darren Wilson fired several shots at Brown after Brown had turned toward him and raised his hands. The Baden autopsy indicated that Brown had been shot exclusively in the front of his body.\n",
      "\n",
      "Blumenthal says the man who made the recording has spoken to the FBI.\n",
      "\n",
      "Read more on Ferguson.\n"
     ]
    }
   ],
   "source": [
    "# Build corpus of article bodies and headlines in training dataset\n",
    "corpus = np.r_[train_all[:, 1], train_all[:, 0]]  # 0 to 44973 are bodies, 44974 to 89943 are headlines\n",
    "\n",
    "print(corpus[44974])\n",
    "print(corpus[0])"
   ]
  },
  {
   "cell_type": "code",
   "execution_count": 8,
   "metadata": {},
   "outputs": [
    {
     "name": "stderr",
     "output_type": "stream",
     "text": [
      "100%|███████████████████████████████████████████████████████████████████████████| 89948/89948 [02:04<00:00, 722.62it/s]\n"
     ]
    },
    {
     "name": "stdout",
     "output_type": "stream",
     "text": [
      "[('attorney', 1738.0), ('representing', 417.0), ('man', 13433.0), ('says', 11259.0), ('realized', 518.0), ('inadvertently', 200.0), ('recorded', 2035.0), ('audio', 4122.0), ('michael', 6997.0), ('brown', 4232.0)]\n"
     ]
    }
   ],
   "source": [
    "# Learn idf of every word in the corpus\n",
    "df = defaultdict(float)\n",
    "for doc in tqdm(corpus):\n",
    "    words = tokenise(doc)\n",
    "    seen = set()\n",
    "    for word in words:\n",
    "        if word not in seen:\n",
    "            df[word] += 1.0\n",
    "            seen.add(word)\n",
    "\n",
    "print(list(df.items())[:10])"
   ]
  },
  {
   "cell_type": "code",
   "execution_count": 9,
   "metadata": {},
   "outputs": [
    {
     "name": "stderr",
     "output_type": "stream",
     "text": [
      "100%|████████████████████████████████████████████████████████████████████████| 24433/24433 [00:00<00:00, 313249.06it/s]\n"
     ]
    },
    {
     "name": "stdout",
     "output_type": "stream",
     "text": [
      "[('attorney', 4.945932607675217), ('representing', 6.371516689504744), ('man', 2.90145403620269), ('says', 3.077986220335818), ('realized', 6.155094238863611), ('inadvertently', 7.103693213970424), ('recorded', 4.788255744359086), ('audio', 4.0826617893226), ('michael', 3.5536184491018665), ('brown', 4.0563318815085765)]\n"
     ]
    }
   ],
   "source": [
    "num_docs = corpus.shape[0]\n",
    "idf = defaultdict(float)\n",
    "for word, val in tqdm(df.items()):\n",
    "    idf[word] = np.log((1.0 + num_docs) / (1.0 + val)) + 1.0  # smoothed idf\n",
    "\n",
    "print(list(idf.items())[:10])"
   ]
  },
  {
   "cell_type": "code",
   "execution_count": 10,
   "metadata": {},
   "outputs": [
    {
     "name": "stderr",
     "output_type": "stream",
     "text": [
      "400000it [00:11, 35282.84it/s]\n"
     ]
    },
    {
     "name": "stdout",
     "output_type": "stream",
     "text": [
      "[-1.2879   -0.14538  -0.016613  1.1387    1.1317    0.20705  -0.47351\n",
      "  0.15898   0.67879   0.2382    0.11621   0.26053  -0.8379    1.1232\n",
      "  0.31469  -0.47904  -0.33717  -0.34492  -0.72053  -1.0543   -0.58476\n",
      " -0.42184  -0.56977  -1.1697   -0.50389  -1.4706   -0.22005   1.1314\n",
      "  1.0829   -1.5477    0.77931  -0.22865   0.33369   0.52067   0.22109\n",
      "  1.1267    0.11704   1.1647    0.5875   -0.079243  0.022386  0.90118\n",
      " -0.37459   0.82637  -0.41061  -0.95039   0.44121  -0.58558   0.12594\n",
      " -0.71778 ]\n"
     ]
    }
   ],
   "source": [
    "# Load GLoVe word vectors\n",
    "f_glove = open(\"data/glove.6B.50d.txt\", \"rb\")  # download from https://nlp.stanford.edu/projects/glove/\n",
    "glove_vectors = {}\n",
    "for line in tqdm(f_glove):\n",
    "    glove_vectors[str(line.split()[0]).split(\"'\")[1]] = np.array(list(map(float, line.split()[1:])))\n",
    "\n",
    "print(glove_vectors['glove'])"
   ]
  },
  {
   "cell_type": "code",
   "execution_count": 11,
   "metadata": {},
   "outputs": [
    {
     "name": "stdout",
     "output_type": "stream",
     "text": [
      "Al Qaida hostage killed in raid [ 1.55523383 -0.53210908  0.76620923 -0.21431609  0.629703   -0.32006548\n",
      " -0.31970142  0.73942066  0.15429804 -0.21196605 -0.46515589 -0.82212054\n",
      " -0.5307356   0.4230665   0.00401337 -0.56455499 -0.30577957 -0.16831217\n",
      " -0.68347781  1.09527072 -0.04144157  0.81056322  0.51446038  0.29237717\n",
      " -0.74519525 -1.76758745 -0.33135205 -0.44939975  0.37342411  0.23482803\n",
      "  1.81228505 -0.49575286 -0.64458321 -0.3668451   0.67194757  0.34778443\n",
      " -0.12845981 -1.08455272 -0.62624605  0.3107455  -0.42629639  0.23873348\n",
      "  0.47901684 -0.54188893  1.07257085 -0.47847246 -0.57972412  0.241845\n",
      "  0.02628177 -0.38890417]\n",
      "UPDATE: Internet report of Ebola outbreak in Purdon not true [ 0.70455934 -0.38734665  0.06858393 -0.07319071 -0.14090453  0.17829662\n",
      " -0.1488975  -0.31604903  0.94739613 -0.13496243  0.06521208 -0.07735578\n",
      "  0.03351917 -0.41814123  0.50764665 -0.02230575 -0.34579725 -0.21483033\n",
      " -0.19021705  0.43873857 -0.47030045 -0.22234839  0.48524512  0.26016291\n",
      "  0.3791139  -0.81212938 -0.18544074 -0.04091179  0.0882883   0.45194806\n",
      "  1.25634925 -0.30554917  0.07506709 -0.56857675 -0.29094076 -0.15825728\n",
      " -0.04248661 -0.30822039  0.04552679  0.11918463 -0.27368358 -0.01006167\n",
      " -0.01191039  0.08378331  0.54067446  0.260048    0.09689079  0.32891919\n",
      "  0.21626953  0.14518921]\n"
     ]
    }
   ],
   "source": [
    "# Convert a document to GloVe vectors, by computing tf-idf of each word * GLoVe of word / total tf-idf for document\n",
    "def doc_to_glove(doc):\n",
    "    doc_tf = doc_to_tf(doc)\n",
    "    doc_tf_idf = defaultdict(float)\n",
    "    for word, tf in doc_tf.items():\n",
    "        doc_tf_idf[word] = tf * idf[word]\n",
    "        \n",
    "    doc_vector = np.zeros(glove_vectors['glove'].shape[0])\n",
    "    if np.sum(list(doc_tf_idf.values())) == 0.0:  # edge case: document is empty\n",
    "        return doc_vector\n",
    "    \n",
    "    for word, tf_idf in doc_tf_idf.items():\n",
    "        if word in glove_vectors:\n",
    "            doc_vector += glove_vectors[word] * tf_idf\n",
    "    doc_vector /= np.sum(list(doc_tf_idf.values()))\n",
    "    return doc_vector\n",
    "\n",
    "for i in range(2):\n",
    "    print(train_all[i, 0], doc_to_glove(train_all[i, 0]))"
   ]
  },
  {
   "cell_type": "code",
   "execution_count": 12,
   "metadata": {},
   "outputs": [
    {
     "name": "stdout",
     "output_type": "stream",
     "text": [
      "0.5636440560517227 unrelated\n",
      "0.5164733208676751 unrelated\n",
      "0.6760296124466074 unrelated\n",
      "0.767126913562204 unrelated\n",
      "0.752183433877146 unrelated\n",
      "0.8795186723871924 discuss\n",
      "0.5023472347134285 unrelated\n",
      "0.8030319138667993 unrelated\n",
      "0.6109934087057954 unrelated\n",
      "0.6277450807506688 discuss\n",
      "0.0 ['tips', 'chinese', 'choosing', 'english', 'name'] ['cctvnewscn']\n"
     ]
    }
   ],
   "source": [
    "# Compute cosine similarity of GLoVe vectors for all headline-body pairs\n",
    "def dot_product(vec1, vec2):\n",
    "    sigma = 0.0\n",
    "    for i in range(vec1.shape[0]):  # assume vec1 and vec2 has same shape\n",
    "        sigma += vec1[i] * vec2[i]\n",
    "    return sigma\n",
    "    \n",
    "def magnitude(vec):\n",
    "    return np.sqrt(np.sum(np.square(vec)))\n",
    "        \n",
    "def cosine_similarity(doc):\n",
    "    headline_vector = doc_to_glove(doc[0])\n",
    "    body_vector = doc_to_glove(doc[1])\n",
    "    \n",
    "    if magnitude(headline_vector) == 0.0 or magnitude(body_vector) == 0.0:  # edge case: document is empty\n",
    "        return 0.0\n",
    "    \n",
    "    return dot_product(headline_vector, body_vector) / (magnitude(headline_vector) * magnitude(body_vector))\n",
    "\n",
    "for i in range(10):\n",
    "    # unrelated should have lower than rest\n",
    "    print(cosine_similarity(train_all[i]), train_all[i, 2])\n",
    "print(cosine_similarity(train_all[27069]), tokenise(train_all[27069, 0]), tokenise(train_all[27069, 1]))  # edge case"
   ]
  },
  {
   "cell_type": "code",
   "execution_count": 13,
   "metadata": {},
   "outputs": [
    {
     "name": "stdout",
     "output_type": "stream",
     "text": [
      "1.551801163955211 unrelated\n",
      "1.3669217307956298 unrelated\n",
      "1.179981357622393 unrelated\n",
      "1.808940496290798 unrelated\n",
      "0.9196569536756409 unrelated\n",
      "1.8322388786374553 discuss\n",
      "2.001011743642174 unrelated\n",
      "2.3189273862983426 unrelated\n",
      "2.3270414360137206 unrelated\n",
      "0.6219721313795342 discuss\n",
      "0.0 ['tips', 'chinese', 'choosing', 'english', 'name'] ['cctvnewscn']\n"
     ]
    }
   ],
   "source": [
    "# Compute the KL-Divergence of language model (LM) representations of the headline and the body\n",
    "def divergence(lm1, lm2):\n",
    "    sigma = 0.0\n",
    "    for i in range(lm1.shape[0]):  # assume lm1 and lm2 has same shape\n",
    "        sigma += lm1[i] * np.log(lm1[i] / lm2[i])\n",
    "    return sigma\n",
    "\n",
    "def kl_divergence(doc, eps=0.1):\n",
    "    # Convert headline and body to 1-gram representations\n",
    "    tf_headline = doc_to_tf(doc[0])\n",
    "    tf_body = doc_to_tf(doc[1])\n",
    "    \n",
    "    # Convert dictionary tf representations to vectors (make sure columns match to the same word)\n",
    "    words = set(tf_headline.keys()).union(set(tf_body.keys()))\n",
    "    vec_headline, vec_body = np.zeros(len(words)), np.zeros(len(words))\n",
    "    i = 0\n",
    "    for word in words:\n",
    "        vec_headline[i] += tf_headline[word]\n",
    "        vec_body[i] = tf_body[word]\n",
    "        i += 1\n",
    "    \n",
    "    # Compute a simple 1-gram language model of headline and body\n",
    "    lm_headline = vec_headline + eps\n",
    "    lm_headline /= np.sum(lm_headline)\n",
    "    lm_body = vec_body + eps\n",
    "    lm_body /= np.sum(lm_body)\n",
    "    \n",
    "    # Return KL-divergence of both language models\n",
    "    return divergence(lm_headline, lm_body)\n",
    "\n",
    "for i in range(10):\n",
    "    # unrelated should have higher than rest\n",
    "    print(kl_divergence(train_all[i]), train_all[i, 2])\n",
    "print(kl_divergence(train_all[27069]), tokenise(train_all[27069, 0]), tokenise(train_all[27069, 1]))  # edge case"
   ]
  },
  {
   "cell_type": "code",
   "execution_count": 14,
   "metadata": {},
   "outputs": [
    {
     "name": "stdout",
     "output_type": "stream",
     "text": [
      "0.0 unrelated\n",
      "0.0 unrelated\n",
      "0.0 unrelated\n",
      "0.0 unrelated\n",
      "0.12857060888583305 unrelated\n",
      "0.42424795135754484 discuss\n",
      "0.0 unrelated\n",
      "0.0 unrelated\n",
      "0.0 unrelated\n",
      "0.25717937945613284 discuss\n"
     ]
    }
   ],
   "source": [
    "# Other feature 1\n",
    "def ngram_overlap(doc):\n",
    "    # Returns how many times n-grams (up to 3-gram) that occur in the article's headline occur on the article's body.\n",
    "    tf_headline = doc_to_tf(doc[0], ngram=3)\n",
    "    tf_body = doc_to_tf(doc[1], ngram=3)\n",
    "    matches = 0.0\n",
    "    for words in tf_headline.keys():\n",
    "        if words in tf_body:\n",
    "            matches += tf_body[words]\n",
    "    return np.power((matches / len(tokenise(doc[1]))), 1 / np.e)  # normalise for document length\n",
    "\n",
    "for i in range(10):\n",
    "    # unrelated should have lower than rest\n",
    "    print(ngram_overlap(train_all[i]), train_all[i, 2])"
   ]
  },
  {
   "cell_type": "code",
   "execution_count": 15,
   "metadata": {},
   "outputs": [
    {
     "name": "stderr",
     "output_type": "stream",
     "text": [
      "100%|████████████████████████████████████████████████████████████████████████████| 44974/44974 [10:04<00:00, 74.43it/s]\n"
     ]
    },
    {
     "name": "stdout",
     "output_type": "stream",
     "text": [
      "[[0.56364406 1.55180116 0.        ]\n",
      " [0.51647332 1.36692173 0.        ]\n",
      " [0.67602961 1.17998136 0.        ]\n",
      " [0.76712691 1.8089405  0.        ]\n",
      " [0.75218343 0.91965695 0.12857061]\n",
      " [0.87951867 1.83223888 0.42424795]\n",
      " [0.50234723 2.00101174 0.        ]\n",
      " [0.80303191 2.31892739 0.        ]\n",
      " [0.61099341 2.32704144 0.        ]\n",
      " [0.62774508 0.62197213 0.25717938]]\n"
     ]
    }
   ],
   "source": [
    "# Define function to convert (headline, body) to feature vectors for each document\n",
    "ftrs = [cosine_similarity, kl_divergence, ngram_overlap]\n",
    "def to_feature_array(doc):\n",
    "    vec = np.array([0.0] * len(ftrs))\n",
    "    for i in range(len(ftrs)):\n",
    "        vec[i] = ftrs[i](doc)\n",
    "    return vec\n",
    "\n",
    "# Initialise X (matrix of feature vectors) for train dataset\n",
    "x_train = np.array([to_feature_array(doc) for doc in tqdm(train_all)])\n",
    "print(x_train[:10])"
   ]
  },
  {
   "cell_type": "code",
   "execution_count": 16,
   "metadata": {},
   "outputs": [
    {
     "name": "stdout",
     "output_type": "stream",
     "text": [
      "[3 3 3 3 3 2 3 3 3 2]\n"
     ]
    }
   ],
   "source": [
    "# Define label <-> int mappings for y\n",
    "label_to_int = {'agree': 0, 'disagree': 1, 'discuss': 2, 'unrelated': 3}\n",
    "int_to_label = ['agree', 'disagree', 'discuss', 'unrelated']\n",
    "\n",
    "# Initialise Y (gold output vector) for train dataset\n",
    "y_train = np.array([label_to_int[i] for i in train_all[:, 2]])\n",
    "print(y_train[:10])"
   ]
  },
  {
   "cell_type": "code",
   "execution_count": 17,
   "metadata": {},
   "outputs": [
    {
     "name": "stdout",
     "output_type": "stream",
     "text": [
      "(array([], dtype=int64), array([], dtype=int64))\n",
      "(array([], dtype=int64), array([], dtype=int64))\n",
      "(44974, 3)\n",
      "(44974,)\n"
     ]
    }
   ],
   "source": [
    "# Check integrity of X and Y\n",
    "print(np.where(np.isnan(x_train)))\n",
    "print(np.where(np.isfinite(x_train) == False))\n",
    "print(x_train.shape)\n",
    "print(y_train.shape)  # x_train.shape[0] == y_train.shape[0]"
   ]
  },
  {
   "cell_type": "code",
   "execution_count": 18,
   "metadata": {},
   "outputs": [
    {
     "name": "stdout",
     "output_type": "stream",
     "text": [
      "[('g', 'agree'), ('r', 'disagree'), ('b', 'discuss'), ('y', 'unrelated')]\n"
     ]
    },
    {
     "data": {
      "image/png": "[encoded data removed]",
      "text/plain": [
       "<matplotlib.figure.Figure at 0x1ed3a592f60>"
      ]
     },
     "metadata": {},
     "output_type": "display_data"
    }
   ],
   "source": [
    "# Plot GLoVe distance vs KL-Divergence on a coloured scatter plot with different colours for each label\n",
    "colours = np.array(['g', 'r', 'b', 'y'])\n",
    "plt.scatter(list(x_train[:, 0]), list(x_train[:, 1]), c=colours[y_train])\n",
    "plt.xlabel('Cosine Similarity of GLoVe vectors')\n",
    "plt.ylabel('KL Divergence of Unigram LMs')\n",
    "print([(colours[i], int_to_label[i]) for i in range(len(int_to_label))])\n",
    "plt.show()"
   ]
  },
  {
   "cell_type": "code",
   "execution_count": 19,
   "metadata": {},
   "outputs": [
    {
     "name": "stderr",
     "output_type": "stream",
     "text": [
      "100%|██████████████████████████████████████████████████████████████████████████████| 4998/4998 [01:12<00:00, 68.50it/s]\n"
     ]
    },
    {
     "name": "stdout",
     "output_type": "stream",
     "text": [
      "[[0.24025197 1.16097222 0.        ]\n",
      " [0.89403671 0.55129714 0.53773387]\n",
      " [0.78941201 0.93792956 0.        ]\n",
      " [0.75226095 1.17694873 0.14567468]\n",
      " [0.68675047 1.87787208 0.        ]]\n"
     ]
    }
   ],
   "source": [
    "# Initialise x (feature vectors) for validation dataset\n",
    "x_val = np.array([to_feature_array(doc) for doc in tqdm(val_all)])\n",
    "print(x_val[:5])"
   ]
  },
  {
   "cell_type": "code",
   "execution_count": 20,
   "metadata": {},
   "outputs": [
    {
     "name": "stdout",
     "output_type": "stream",
     "text": [
      "0.04833333333333334\n"
     ]
    }
   ],
   "source": [
    "# Linear regression model\n",
    "def mse(pred, gold):\n",
    "    sigma = 0.0\n",
    "    for i in range(pred.shape[0]):\n",
    "        sigma += np.square(pred[i] - gold[i])\n",
    "    return sigma / (2 * pred.shape[0])\n",
    "\n",
    "print(mse(np.array([0.0, 0.2, 0.5, 0.5, 0.8, 1.0]), np.array([0, 0, 0, 1, 1, 1])))"
   ]
  },
  {
   "cell_type": "code",
   "execution_count": 21,
   "metadata": {},
   "outputs": [],
   "source": [
    "class LinearRegression:\n",
    "    \n",
    "    def __init__(self, lrn_rate, n_iter):\n",
    "        self.lrn_rate = lrn_rate\n",
    "        self.n_iter = n_iter\n",
    "        # self.breakpoints = set([n_iter * i // 10 for i in range(1, 11)])\n",
    "        \n",
    "    def fit(self, X, Y):\n",
    "        # Learn a model y = intercept + x0*t0 + x1*t1 + x2*t2 + ... that minimises MSE. Need to optimise T\n",
    "        # self.intercept = 0.0\n",
    "        self.model = np.zeros(X.shape[1])  # model[0] = t0, model[1] = t1, etc.\n",
    "        for it in tqdm(range(self.n_iter)):\n",
    "            model_Y = self.transform(X)\n",
    "            # Thetas\n",
    "            for col in range(X.shape[1]):\n",
    "                s = 0.0\n",
    "                for row in range(X.shape[0]):\n",
    "                    s += (model_Y[row] - Y[row]) * X[row, col]\n",
    "                self.model[col] -= self.lrn_rate * s / X.shape[0]\n",
    "            # Intercept\n",
    "            # s_int = 0.0\n",
    "            # for row in range(X.shape[0]):\n",
    "            #     s_int += (model_Y[row] - Y[row]) * 1.0\n",
    "            # self.intercept -= self.lrn_rate * s_int / X.shape[0]\n",
    "            # if it + 1 in self.breakpoints:\n",
    "                # print('Iteration', it+1, 'MSE:', mse(model_Y, Y))\n",
    "        print('Final MSE:', mse(model_Y, Y))\n",
    "        # print('Intercept:', self.intercept)\n",
    "        print('Model:', self.model)\n",
    "        \n",
    "    def transform(self, X):\n",
    "        # Returns a float value for each X. (Regression)\n",
    "        Y = np.zeros(X.shape[0])\n",
    "        for row in range(X.shape[0]):\n",
    "            # s = self.intercept\n",
    "            s = 0.0\n",
    "            for col in range(X.shape[1]):\n",
    "                s += self.model[col] * X[row, col]\n",
    "            Y[row] = s\n",
    "        return Y\n",
    "    \n",
    "    def predict(self, X):\n",
    "        # Uses results of transform() for binary classification. For testing only, use OneVAllClassifier for the final run.\n",
    "        Y = self.transform(X)\n",
    "        Y = np.array([(1 if i > 0.5 else 0) for i in Y])\n",
    "        return Y\n",
    "\n",
    "# Test only\n",
    "# lr = LinearRegression(lrn_rate=0.1, n_iter=100)\n",
    "# lr.fit(x_train[:1000], np.array([(1 if i == 3 else 0) for i in y_train[:1000]]))\n",
    "# print(lr.transform(x_train[1000:1020]))\n",
    "# print('Predicted', lr.predict(x_train[1000:1020]))\n",
    "# print('Actual', np.array([(1 if i == 3 else 0) for i in y_train[1000:1020]]))"
   ]
  },
  {
   "cell_type": "code",
   "execution_count": 22,
   "metadata": {},
   "outputs": [
    {
     "name": "stdout",
     "output_type": "stream",
     "text": [
      "[0.5        0.549834   0.62245933 0.62245933 0.68997448 0.73105858]\n",
      "0.04833333333333334\n",
      "0.3054302439580517\n",
      "0.6039670619612919\n"
     ]
    }
   ],
   "source": [
    "# Logistic regression functions\n",
    "def sigmoid(Y):\n",
    "    return 1 / (1 + np.exp(Y * -1))\n",
    "\n",
    "print(sigmoid(np.array([0.0, 0.2, 0.5, 0.5, 0.8, 1.0])))\n",
    "\n",
    "def logistic_cost(pred, gold):\n",
    "    sigma = 0.0\n",
    "    for i in range(pred.shape[0]):\n",
    "        if gold[i] == 1:  \n",
    "            sigma -= np.log(pred[i])\n",
    "        elif gold[i] == 0:\n",
    "            sigma -= np.log(1 - pred[i])\n",
    "    return sigma / pred.shape[0]\n",
    "\n",
    "print(mse(np.array([0.0, 0.2, 0.5, 0.5, 0.8, 1.0]), np.array([0, 0, 0, 1, 1, 1])))\n",
    "print(logistic_cost(np.array([0.0, 0.2, 0.5, 0.5, 0.8, 1.0]), np.array([0, 0, 0, 1, 1, 1])))\n",
    "print(logistic_cost(sigmoid(np.array([0.0, 0.2, 0.5, 0.5, 0.8, 1.0])), np.array([0, 0, 0, 1, 1, 1])))"
   ]
  },
  {
   "cell_type": "code",
   "execution_count": 23,
   "metadata": {},
   "outputs": [],
   "source": [
    "# Logistic regression model\n",
    "class LogisticRegression:\n",
    "    \n",
    "    def __init__(self, lrn_rate, n_iter):\n",
    "        self.lrn_rate = lrn_rate\n",
    "        self.n_iter = n_iter\n",
    "        # self.breakpoints = set([n_iter * i // 10 for i in range(1, 11)])\n",
    "        \n",
    "    def fit(self, X, Y):\n",
    "        # Learn a model y = x0*t0 + x1*t1 + x2*t2 + ... that minimises MSE. Need to optimise T\n",
    "        self.model = np.zeros(X.shape[1])  # model[0] = t0, model[1] = t1, etc.\n",
    "        for it in tqdm(range(self.n_iter)):\n",
    "            model_Y = self.transform(X)\n",
    "            for col in range(X.shape[1]):\n",
    "                s = 0.0\n",
    "                for row in range(X.shape[0]):\n",
    "                    s += (model_Y[row] - Y[row]) * X[row, col]\n",
    "                self.model[col] -= self.lrn_rate * s / X.shape[0]\n",
    "            # if it + 1 in self.breakpoints:\n",
    "                # print('Iteration', it+1, 'loss:', logistic_cost(model_Y, Y))\n",
    "        print('Final loss:', logistic_cost(model_Y, Y))\n",
    "        print('Model:', self.model)\n",
    "        \n",
    "    def transform(self, X):\n",
    "        # Returns a float value for each X. (Regression)\n",
    "        Y = np.zeros(X.shape[0])\n",
    "        for row in range(X.shape[0]):\n",
    "            s = 0.0\n",
    "            for col in range(X.shape[1]):\n",
    "                s += self.model[col] * X[row, col]\n",
    "            Y[row] = s\n",
    "        return sigmoid(Y)\n",
    "    \n",
    "    def predict(self, X):\n",
    "        # Uses results of transform() for binary classification. For testing only, use OneVAllClassifier for the final run.\n",
    "        Y = self.transform(X)\n",
    "        Y = np.array([(1 if i > 0.5 else 0) for i in Y])\n",
    "        return Y\n",
    "\n",
    "# Test only\n",
    "# lr = LogisticRegression(lrn_rate=0.1, n_iter=100)\n",
    "# lr.fit(x_train[:1000], np.array([(1 if i == 3 else 0) for i in y_train[:1000]]))\n",
    "# print(lr.transform(x_train[1000:1020]))\n",
    "# print('Predicted', lr.predict(x_train[1000:1020]))\n",
    "# print('Actual', np.array([(1 if i == 3 else 0) for i in y_train[1000:1020]]))"
   ]
  },
  {
   "cell_type": "code",
   "execution_count": 24,
   "metadata": {},
   "outputs": [],
   "source": [
    "# To use linear/logistic regression models to classify multiple classes\n",
    "class OneVAllClassifier:\n",
    "    \n",
    "    def __init__(self, regression, **params):\n",
    "        self.regression = regression\n",
    "        self.params = params\n",
    "        \n",
    "    def fit(self, X, Y):\n",
    "        # Learn a model for each parameter.\n",
    "        self.categories = np.unique(Y)\n",
    "        self.models = {}\n",
    "        for cat in self.categories:\n",
    "            ova_Y = np.array([(1 if i == cat else 0) for i in Y])\n",
    "            model = self.regression(**self.params)\n",
    "            model.fit(X, ova_Y)\n",
    "            self.models[cat] = model\n",
    "            print(int_to_label[cat])\n",
    "    \n",
    "    def predict(self, X):\n",
    "        # Predicts each x for each different model learned, and returns the category related to the model with the highest score.\n",
    "        vals = {}\n",
    "        for cat, model in self.models.items():\n",
    "            vals[cat] = model.transform(X)\n",
    "        Y = np.zeros(X.shape[0], dtype=np.int)\n",
    "        for row in range(X.shape[0]):\n",
    "            max_val, max_cat = -math.inf, -math.inf\n",
    "            for cat, val in vals.items():\n",
    "                if val[row] > max_val:\n",
    "                    max_val, max_cat = val[row], cat\n",
    "            Y[row] = max_cat\n",
    "        return Y\n",
    "    \n",
    "# Test only\n",
    "# ova = OneVAllClassifier(LinearRegression, lrn_rate=0.1, n_iter=100)\n",
    "# ova.fit(x_train[:1000], y_train[:1000])\n",
    "# print('Predicted', ova.predict(x_train[1000:1020]))\n",
    "# print('Actual', y_train[1000:1020])"
   ]
  },
  {
   "cell_type": "code",
   "execution_count": 25,
   "metadata": {},
   "outputs": [
    {
     "name": "stderr",
     "output_type": "stream",
     "text": [
      "100%|██████████████████████████████████████████████████████████████████████████████| 1000/1000 [03:30<00:00,  4.76it/s]\n"
     ]
    },
    {
     "name": "stdout",
     "output_type": "stream",
     "text": [
      "Final MSE: 0.02908818979879915\n",
      "Model: [ 0.06230136 -0.02892398  0.44871666]\n",
      "agree\n"
     ]
    },
    {
     "name": "stderr",
     "output_type": "stream",
     "text": [
      "100%|██████████████████████████████████████████████████████████████████████████████| 1000/1000 [03:17<00:00,  5.05it/s]\n"
     ]
    },
    {
     "name": "stdout",
     "output_type": "stream",
     "text": [
      "Final MSE: 0.008033005315349694\n",
      "Model: [ 0.02016641 -0.00838331  0.09061424]\n",
      "disagree\n"
     ]
    },
    {
     "name": "stderr",
     "output_type": "stream",
     "text": [
      "100%|██████████████████████████████████████████████████████████████████████████████| 1000/1000 [03:12<00:00,  5.19it/s]\n"
     ]
    },
    {
     "name": "stdout",
     "output_type": "stream",
     "text": [
      "Final MSE: 0.04281122958369169\n",
      "Model: [ 0.29537823 -0.12932566  0.94972588]\n",
      "discuss\n"
     ]
    },
    {
     "name": "stderr",
     "output_type": "stream",
     "text": [
      "100%|██████████████████████████████████████████████████████████████████████████████| 1000/1000 [03:19<00:00,  5.02it/s]\n"
     ]
    },
    {
     "name": "stdout",
     "output_type": "stream",
     "text": [
      "Final MSE: 0.04277236057478231\n",
      "Model: [ 0.56418649  0.4055448  -1.3705838 ]\n",
      "unrelated\n"
     ]
    }
   ],
   "source": [
    "# Train the linear regression & One-V-All classifier models on the train set\n",
    "clf = OneVAllClassifier(LinearRegression, lrn_rate=0.1, n_iter=1000)\n",
    "clf.fit(x_train, y_train)"
   ]
  },
  {
   "cell_type": "code",
   "execution_count": 26,
   "metadata": {},
   "outputs": [
    {
     "name": "stdout",
     "output_type": "stream",
     "text": [
      "[3 2 3 3 3]\n",
      "['unrelated' 'discuss' 'unrelated' 'unrelated' 'unrelated']\n",
      "['unrelated' 'agree' 'unrelated' 'unrelated' 'unrelated']\n"
     ]
    }
   ],
   "source": [
    "# Predict y for validation set\n",
    "y_pred = clf.predict(x_val)\n",
    "print(y_pred[:5])\n",
    "predicted = np.array([int_to_label[i] for i in y_pred])\n",
    "print(predicted[:5])\n",
    "print(val_all[:, 2][:5])"
   ]
  },
  {
   "cell_type": "code",
   "execution_count": 27,
   "metadata": {},
   "outputs": [],
   "source": [
    "# Prepare validation dataset format for score_submission in scorer.py\n",
    "body_ids = [str(body_inverse_index[body]) for body in val_all[:, 1]]\n",
    "pred_for_cm = np.array([{'Headline': val_all[i, 0], 'Body ID': body_ids[i], 'Stance': predicted[i]} for i in range(len(val_all))])\n",
    "gold_for_cm = np.array([{'Headline': val_all[i, 0], 'Body ID': body_ids[i], 'Stance': val_all[i, 2]} for i in range(len(val_all))])"
   ]
  },
  {
   "cell_type": "code",
   "execution_count": 28,
   "metadata": {},
   "outputs": [
    {
     "name": "stdout",
     "output_type": "stream",
     "text": [
      "CONFUSION MATRIX:\n",
      "-------------------------------------------------------------\n",
      "|           |   agree   | disagree  |  discuss  | unrelated |\n",
      "-------------------------------------------------------------\n",
      "|   agree   |     0     |     0     |    302    |    66     |\n",
      "-------------------------------------------------------------\n",
      "| disagree  |     0     |     0     |    65     |    19     |\n",
      "-------------------------------------------------------------\n",
      "|  discuss  |     1     |     0     |    741    |    149    |\n",
      "-------------------------------------------------------------\n",
      "| unrelated |     0     |     1     |    46     |   3608    |\n",
      "-------------------------------------------------------------\n",
      "ACCURACY: 0.870\n",
      "\n",
      "MAX  - the best possible score (100% accuracy)\n",
      "NULL - score as if all predicted stances were unrelated\n",
      "TEST - score based on the provided predictions\n",
      "\n",
      "||    MAX    ||    NULL   ||    TEST   ||\n",
      "||  2256.75  ||  913.75   ||  1735.0   ||\n",
      "\n"
     ]
    }
   ],
   "source": [
    "# Score using scorer.py (provided in https://github.com/FakeNewsChallenge/fnc-1) on VALIDATION set:\n",
    "test_score, cm = score_submission(gold_for_cm, pred_for_cm)\n",
    "null_score, max_score = score_defaults(gold_for_cm)\n",
    "print_confusion_matrix(cm)\n",
    "print(SCORE_REPORT.format(max_score, null_score, test_score))"
   ]
  },
  {
   "cell_type": "code",
   "execution_count": 29,
   "metadata": {},
   "outputs": [
    {
     "name": "stderr",
     "output_type": "stream",
     "text": [
      "100%|██████████████████████████████████████████████████████████████████████████████| 1000/1000 [03:24<00:00,  4.89it/s]\n"
     ]
    },
    {
     "name": "stdout",
     "output_type": "stream",
     "text": [
      "Final loss: 0.22604783942716677\n",
      "Model: [-0.60290899 -2.09889147  0.91520547]\n",
      "agree\n"
     ]
    },
    {
     "name": "stderr",
     "output_type": "stream",
     "text": [
      "100%|██████████████████████████████████████████████████████████████████████████████| 1000/1000 [03:27<00:00,  4.82it/s]\n"
     ]
    },
    {
     "name": "stdout",
     "output_type": "stream",
     "text": [
      "Final loss: 0.08359489774556864\n",
      "Model: [-1.64130089 -2.64682942 -0.24056022]\n",
      "disagree\n"
     ]
    },
    {
     "name": "stderr",
     "output_type": "stream",
     "text": [
      "100%|██████████████████████████████████████████████████████████████████████████████| 1000/1000 [03:21<00:00,  4.95it/s]\n"
     ]
    },
    {
     "name": "stdout",
     "output_type": "stream",
     "text": [
      "Final loss: 0.2991535532390866\n",
      "Model: [ 0.87164859 -2.3937786   2.39670896]\n",
      "discuss\n"
     ]
    },
    {
     "name": "stderr",
     "output_type": "stream",
     "text": [
      "100%|██████████████████████████████████████████████████████████████████████████████| 1000/1000 [03:24<00:00,  4.88it/s]\n"
     ]
    },
    {
     "name": "stdout",
     "output_type": "stream",
     "text": [
      "Final loss: 0.25937043615214894\n",
      "Model: [-1.74466873  2.57339594 -3.72173094]\n",
      "unrelated\n",
      "\n",
      "CONFUSION MATRIX:\n",
      "-------------------------------------------------------------\n",
      "|           |   agree   | disagree  |  discuss  | unrelated |\n",
      "-------------------------------------------------------------\n",
      "|   agree   |     0     |     0     |    236    |    132    |\n",
      "-------------------------------------------------------------\n",
      "| disagree  |     0     |     0     |    49     |    35     |\n",
      "-------------------------------------------------------------\n",
      "|  discuss  |     0     |     0     |    609    |    282    |\n",
      "-------------------------------------------------------------\n",
      "| unrelated |     0     |     0     |    47     |   3608    |\n",
      "-------------------------------------------------------------\n",
      "ACCURACY: 0.844\n",
      "\n",
      "MAX  - the best possible score (100% accuracy)\n",
      "NULL - score as if all predicted stances were unrelated\n",
      "TEST - score based on the provided predictions\n",
      "\n",
      "||    MAX    ||    NULL   ||    TEST   ||\n",
      "||  2256.75  ||  913.75   ||  1582.25  ||\n",
      "\n"
     ]
    }
   ],
   "source": [
    "# Predict y for validation set using logistic regression instead of linear regression, and compare results of scorer.py\n",
    "clf_logistic = OneVAllClassifier(LogisticRegression, lrn_rate=0.1, n_iter=1000)\n",
    "clf_logistic.fit(x_train, y_train)\n",
    "\n",
    "y_pred = clf_logistic.predict(x_val)\n",
    "predicted = np.array([int_to_label[i] for i in y_pred])\n",
    "\n",
    "body_ids = [str(body_inverse_index[body]) for body in val_all[:, 1]]\n",
    "pred_for_cm = np.array([{'Headline': val_all[i, 0], 'Body ID': body_ids[i], 'Stance': predicted[i]} for i in range(len(val_all))])\n",
    "gold_for_cm = np.array([{'Headline': val_all[i, 0], 'Body ID': body_ids[i], 'Stance': val_all[i, 2]} for i in range(len(val_all))])\n",
    "\n",
    "test_score, cm = score_submission(gold_for_cm, pred_for_cm)\n",
    "null_score, max_score = score_defaults(gold_for_cm)\n",
    "print()\n",
    "print_confusion_matrix(cm)\n",
    "print(SCORE_REPORT.format(max_score, null_score, test_score))\n",
    "# linear regression performs better, so that model is chosen for the test set"
   ]
  },
  {
   "cell_type": "code",
   "execution_count": 30,
   "metadata": {},
   "outputs": [],
   "source": [
    "# Load test data from CSV\n",
    "f_tbodies = open('data/competition_test_bodies.csv', 'r', encoding='utf-8')\n",
    "csv_tbodies = csv.DictReader(f_tbodies)\n",
    "tbodies = []\n",
    "for row in csv_tbodies:\n",
    "    body_id = int(row['Body ID'])\n",
    "    if (body_id + 1) > len(tbodies):\n",
    "        tbodies += [None] * (body_id + 1 - len(tbodies))\n",
    "    tbodies[body_id] = row['articleBody']\n",
    "f_tbodies.close()\n",
    "tbody_inverse_index = {tbodies[i]: i for i in range(len(tbodies))}\n",
    "\n",
    "test_all = []  # each article = (headline, body, stance)\n",
    "\n",
    "f_tstances = open('data/competition_test_stances.csv', 'r', encoding='utf-8')\n",
    "csv_tstances = csv.DictReader(f_tstances)\n",
    "for row in csv_tstances:\n",
    "    body = tbodies[int(row['Body ID'])]\n",
    "    test_all.append((row['Headline'], body, row['Stance']))\n",
    "f_tstances.close()\n",
    "\n",
    "# test_all = np.array(test_all)  # for some reason gives MemoryError\n",
    "# print(test_all.shape)"
   ]
  },
  {
   "cell_type": "code",
   "execution_count": 31,
   "metadata": {},
   "outputs": [
    {
     "name": "stderr",
     "output_type": "stream",
     "text": [
      "100%|████████████████████████████████████████████████████████████████████████████| 25413/25413 [04:39<00:00, 91.01it/s]\n"
     ]
    },
    {
     "name": "stdout",
     "output_type": "stream",
     "text": [
      "[[0.78681984 1.84940367 0.        ]\n",
      " [0.43540726 1.50340396 0.        ]\n",
      " [0.59061399 1.32746514 0.14596078]\n",
      " [0.55240418 1.17096374 0.        ]\n",
      " [0.72740017 2.1493695  0.        ]]\n"
     ]
    }
   ],
   "source": [
    "# Initialise x (feature vectors) and y for test dataset\n",
    "x_test = np.array([to_feature_array(doc) for doc in tqdm(test_all)])\n",
    "print(x_test[:5])"
   ]
  },
  {
   "cell_type": "code",
   "execution_count": 32,
   "metadata": {},
   "outputs": [
    {
     "name": "stdout",
     "output_type": "stream",
     "text": [
      "[3 2 3 3 3]\n",
      "['unrelated' 'unrelated' 'unrelated' 'unrelated' 'unrelated']\n"
     ]
    }
   ],
   "source": [
    "# Predict y for test set\n",
    "y_test = clf.predict(x_test)\n",
    "print(y_pred[:5])\n",
    "pred_test = np.array([int_to_label[i] for i in y_test])\n",
    "print(pred_test[:5])"
   ]
  },
  {
   "cell_type": "code",
   "execution_count": 33,
   "metadata": {},
   "outputs": [],
   "source": [
    "# Prepare test dataset format for score_submission in scorer.py\n",
    "test_body_ids = [str(tbody_inverse_index[test_all[i][1]]) for i in range(len(test_all))]\n",
    "test_pred_for_cm = np.array([{'Headline': test_all[i][0], 'Body ID': test_body_ids[i], 'Stance': pred_test[i]} for i in range(len(test_all))])\n",
    "test_gold_for_cm = np.array([{'Headline': test_all[i][0], 'Body ID': test_body_ids[i], 'Stance': test_all[i][2]} for i in range(len(test_all))])"
   ]
  },
  {
   "cell_type": "code",
   "execution_count": 34,
   "metadata": {},
   "outputs": [
    {
     "name": "stdout",
     "output_type": "stream",
     "text": [
      "CONFUSION MATRIX:\n",
      "-------------------------------------------------------------\n",
      "|           |   agree   | disagree  |  discuss  | unrelated |\n",
      "-------------------------------------------------------------\n",
      "|   agree   |     0     |     0     |   1504    |    399    |\n",
      "-------------------------------------------------------------\n",
      "| disagree  |     0     |     0     |    433    |    264    |\n",
      "-------------------------------------------------------------\n",
      "|  discuss  |     0     |     0     |   3417    |   1047    |\n",
      "-------------------------------------------------------------\n",
      "| unrelated |     1     |     0     |    160    |   18188   |\n",
      "-------------------------------------------------------------\n",
      "ACCURACY: 0.850\n",
      "\n",
      "MAX  - the best possible score (100% accuracy)\n",
      "NULL - score as if all predicted stances were unrelated\n",
      "TEST - score based on the provided predictions\n",
      "\n",
      "||    MAX    ||    NULL   ||    TEST   ||\n",
      "|| 11651.25  ||  4587.25  ||  8448.25  ||\n",
      "\n"
     ]
    }
   ],
   "source": [
    "# Score using scorer.py (provided in https://github.com/FakeNewsChallenge/fnc-1) on TEST set:\n",
    "test_score, cm = score_submission(test_gold_for_cm, test_pred_for_cm)\n",
    "null_score, max_score = score_defaults(test_gold_for_cm)\n",
    "print_confusion_matrix(cm)\n",
    "print(SCORE_REPORT.format(max_score, null_score, test_score))"
   ]
  }
 ],
 "metadata": {
  "kernelspec": {
   "display_name": "Python 3",
   "language": "python",
   "name": "python3"
  },
  "language_info": {
   "codemirror_mode": {
    "name": "ipython",
    "version": 3
   },
   "file_extension": ".py",
   "mimetype": "text/x-python",
   "name": "python",
   "nbconvert_exporter": "python",
   "pygments_lexer": "ipython3",
   "version": "3.6.4"
  }
 },
 "nbformat": 4,
 "nbformat_minor": 2
}
