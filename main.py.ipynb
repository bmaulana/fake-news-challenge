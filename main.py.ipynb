{
 "cells": [
  {
   "cell_type": "code",
   "execution_count": 1,
   "metadata": {},
   "outputs": [],
   "source": [
    "import csv\n",
    "import matplotlib.pyplot as plt\n",
    "import numpy as np\n",
    "import random\n",
    "from data.scorer import score_submission, print_confusion_matrix, score_defaults, SCORE_REPORT\n",
    "from scipy import sparse\n",
    "from scipy.spatial.distance import cosine  # TODO may have to implement own maths formulas\n",
    "from scipy.stats import entropy  # (kl-divergence) TODO may have to implement own maths formulas\n",
    "from sklearn.linear_model import LogisticRegression  # TODO implement own classifier\n",
    "from sklearn.feature_extraction.text import CountVectorizer, TfidfVectorizer  # TODO implement own tokenizer + count + tf-idf\n",
    "from sklearn.metrics import confusion_matrix\n",
    "from sklearn.preprocessing import LabelEncoder  # TODO implement my own mapping\n",
    "from tqdm import tqdm\n",
    "from vaderSentiment.vaderSentiment import SentimentIntensityAnalyzer"
   ]
  },
  {
   "cell_type": "code",
   "execution_count": 2,
   "metadata": {},
   "outputs": [],
   "source": [
    "# Load data from CSV\n",
    "f_bodies = open('data/train_bodies.csv', 'r', encoding='utf-8')\n",
    "csv_bodies = csv.DictReader(f_bodies)\n",
    "bodies = []\n",
    "for row in csv_bodies:\n",
    "    body_id = int(row['Body ID'])\n",
    "    if (body_id + 1) > len(bodies):\n",
    "        bodies += [None] * (body_id + 1 - len(bodies))\n",
    "    bodies[body_id] = row['articleBody']\n",
    "f_bodies.close()\n",
    "body_inverse_index = {bodies[i]: i for i in range(len(bodies))}\n",
    "\n",
    "all_unrelated, all_discuss, all_agree, all_disagree = [], [], [], []  # each article = (headline, body, stance)\n",
    "\n",
    "f_stances = open('data/train_stances.csv', 'r', encoding='utf-8')\n",
    "csv_stances = csv.DictReader(f_stances)\n",
    "for row in csv_stances:\n",
    "    body = bodies[int(row['Body ID'])]\n",
    "    if row['Stance'] == 'unrelated':\n",
    "        all_unrelated.append((row['Headline'], body, row['Stance']))\n",
    "    elif row['Stance'] == 'discuss':\n",
    "        all_discuss.append((row['Headline'], body, row['Stance']))\n",
    "    elif row['Stance'] == 'agree':\n",
    "        all_agree.append((row['Headline'], body, row['Stance']))\n",
    "    elif row['Stance'] == 'disagree':\n",
    "        all_disagree.append((row['Headline'], body, row['Stance']))\n",
    "f_stances.close()"
   ]
  },
  {
   "cell_type": "code",
   "execution_count": 3,
   "metadata": {},
   "outputs": [
    {
     "name": "stdout",
     "output_type": "stream",
     "text": [
      "\tUnrltd\tDiscuss\t Agree\tDisagree\n",
      "All\t 36545 \t 8909 \t 3678 \t 840\n",
      "Train\t 32890 \t 8018 \t 3310 \t 756\n",
      "Valid.\t 3655 \t 891 \t 368 \t 84\n"
     ]
    }
   ],
   "source": [
    "# Split to train and validation\n",
    "print('\\tUnrltd\\tDiscuss\\t Agree\\tDisagree')\n",
    "print('All\\t', len(all_unrelated), '\\t', len(all_discuss), '\\t', len(all_agree), '\\t', len(all_disagree))\n",
    "\n",
    "train_unrelated = all_unrelated[:len(all_unrelated) * 9 // 10]\n",
    "train_discuss = all_discuss[:len(all_discuss) * 9 // 10]\n",
    "train_agree = all_agree[:len(all_agree) * 9 // 10]\n",
    "train_disagree = all_disagree[:len(all_disagree) * 9 // 10]\n",
    "\n",
    "val_unrelated = all_unrelated[len(all_unrelated) * 9 // 10:]\n",
    "val_discuss = all_discuss[len(all_discuss) * 9 // 10:]\n",
    "val_agree = all_agree[len(all_agree) * 9 // 10:]\n",
    "val_disagree = all_disagree[len(all_disagree) * 9 // 10:]\n",
    "\n",
    "print('Train\\t', len(train_unrelated), '\\t', len(train_discuss), '\\t', len(train_agree), '\\t', len(train_disagree))\n",
    "print('Valid.\\t', len(val_unrelated), '\\t', len(val_discuss), '\\t', len(val_agree), '\\t', len(val_disagree))"
   ]
  },
  {
   "cell_type": "code",
   "execution_count": 4,
   "metadata": {},
   "outputs": [
    {
     "name": "stdout",
     "output_type": "stream",
     "text": [
      "Train (Total) (44974, 3) \tValidation (Total) (4998, 3)\n",
      "32890 \t 8018 \t 3310 \t 756\n",
      "3655 \t 891 \t 368 \t 84\n"
     ]
    }
   ],
   "source": [
    "train_all = train_unrelated + train_discuss + train_agree + train_disagree  # each article = (headline, body, stance)\n",
    "random.Random(0).shuffle(train_all)\n",
    "train_all = np.array(train_all)\n",
    "\n",
    "val_all = val_unrelated + val_discuss + val_agree + val_disagree\n",
    "random.Random(0).shuffle(val_all)\n",
    "val_all = np.array(val_all)\n",
    "\n",
    "print('Train (Total)', train_all.shape, '\\tValidation (Total)', val_all.shape)\n",
    "print(np.count_nonzero(train_all[:, 2] == 'unrelated'), '\\t',\n",
    "      np.count_nonzero(train_all[:, 2] == 'discuss'), '\\t',\n",
    "      np.count_nonzero(train_all[:, 2] == 'agree'), '\\t',\n",
    "      np.count_nonzero(train_all[:, 2] == 'disagree'))\n",
    "print(np.count_nonzero(val_all[:, 2] == 'unrelated'), '\\t',\n",
    "      np.count_nonzero(val_all[:, 2] == 'discuss'), '\\t',\n",
    "      np.count_nonzero(val_all[:, 2] == 'agree'), '\\t',\n",
    "      np.count_nonzero(val_all[:, 2] == 'disagree'))"
   ]
  },
  {
   "cell_type": "code",
   "execution_count": 5,
   "metadata": {},
   "outputs": [
    {
     "name": "stderr",
     "output_type": "stream",
     "text": [
      "400000it [00:10, 38805.31it/s]\n"
     ]
    },
    {
     "name": "stdout",
     "output_type": "stream",
     "text": [
      "[-1.2879   -0.14538  -0.016613  1.1387    1.1317    0.20705  -0.47351\n",
      "  0.15898   0.67879   0.2382    0.11621   0.26053  -0.8379    1.1232\n",
      "  0.31469  -0.47904  -0.33717  -0.34492  -0.72053  -1.0543   -0.58476\n",
      " -0.42184  -0.56977  -1.1697   -0.50389  -1.4706   -0.22005   1.1314\n",
      "  1.0829   -1.5477    0.77931  -0.22865   0.33369   0.52067   0.22109\n",
      "  1.1267    0.11704   1.1647    0.5875   -0.079243  0.022386  0.90118\n",
      " -0.37459   0.82637  -0.41061  -0.95039   0.44121  -0.58558   0.12594\n",
      " -0.71778 ]\n"
     ]
    }
   ],
   "source": [
    "# Load GLoVe word vectors\n",
    "f_glove = open(\"data/glove.6B.50d.txt\", \"rb\")  # download from https://nlp.stanford.edu/projects/glove/\n",
    "# also try if higher-dimension/higher-vocabulary GLoVe vectors work better\n",
    "glove_vectors = {}\n",
    "for line in tqdm(f_glove):\n",
    "    glove_vectors[str(line.split()[0]).split(\"'\")[1]] = np.array(list(map(float, line.split()[1:])))\n",
    "# for key, value in glove_vectors.items():\n",
    "#    print(key, value)\n",
    "#    break\n",
    "print(glove_vectors['glove'])"
   ]
  },
  {
   "cell_type": "code",
   "execution_count": 6,
   "metadata": {},
   "outputs": [],
   "source": [
    "# Corpus of article bodies and headlines in training dataset\n",
    "corpus = np.r_[train_all[:, 1], train_all[:, 0]]  # 0 to 44973 are bodies, 44974 to 89943 are headlines"
   ]
  },
  {
   "cell_type": "code",
   "execution_count": 7,
   "metadata": {},
   "outputs": [
    {
     "name": "stdout",
     "output_type": "stream",
     "text": [
      "(89948, 23026)\n"
     ]
    }
   ],
   "source": [
    "# Convert documents in training set to tf-idf form, to learn idf weights\n",
    "tf_idf_vec = TfidfVectorizer(stop_words='english')\n",
    "tf_idf = tf_idf_vec.fit_transform(corpus)\n",
    "# print(tf_idf[0])\n",
    "print(tf_idf.shape)  # (2 x no of docs, no of words)"
   ]
  },
  {
   "cell_type": "code",
   "execution_count": 31,
   "metadata": {},
   "outputs": [
    {
     "name": "stdout",
     "output_type": "stream",
     "text": [
      "[(2031, 'attorney'), (17068, 'representing'), (12641, 'man'), (17930, 'says'), (16606, 'realized')]\n",
      "4.937914237108265 attorney\n",
      "6.371516689504744 representing\n",
      "2.829725591661936 man\n",
      "3.077986220335818 says\n",
      "6.155094238863611 realized\n",
      "7.103693213970424 inadvertently\n",
      "4.788255744359086 recorded\n",
      "4.0826617893226 audio\n",
      "3.5469246976967193 michael\n",
      "4.04575723238715 brown\n"
     ]
    }
   ],
   "source": [
    "# Create index of column indices in tf_idf -> word\n",
    "col_to_word = {i[1]: i[0] for i in tf_idf_vec.vocabulary_.items()}\n",
    "print(list(col_to_word.items())[:5])\n",
    "\n",
    "for i in range(10):\n",
    "    col, word = list(col_to_word.items())[i]\n",
    "    print(tf_idf_vec.idf_[col], word)"
   ]
  },
  {
   "cell_type": "code",
   "execution_count": 9,
   "metadata": {},
   "outputs": [
    {
     "name": "stdout",
     "output_type": "stream",
     "text": [
      "Al Qaida hostage killed in raid\n",
      "[ 1.40336204 -0.29713257  0.7824141  -0.10616852  0.67776405 -0.47418078\n",
      " -0.33211532  0.6853884   0.21276827 -0.10664191 -0.52306133 -0.79293934\n",
      " -0.65304449  0.41550822 -0.10478675 -0.51422262 -0.2272418  -0.27009657\n",
      " -0.5350907   1.21539526 -0.1567672   0.72943174  0.68802754  0.30311577\n",
      " -0.87958703 -1.83329878 -0.34384378 -0.36733531  0.39257938  0.2169434\n",
      "  1.8812151  -0.48053857 -0.63673718 -0.26299464  0.64639425  0.27540962\n",
      " -0.09585047 -0.86191694 -0.64410558  0.46340416 -0.28346891  0.28893852\n",
      "  0.27789503 -0.48971771  1.09979954 -0.52053643 -0.7945171   0.2771475\n",
      "  0.05022954 -0.26508926]\n"
     ]
    }
   ],
   "source": [
    "# Function to convert a document to GloVe vectors, by computing tf-idf of each word * GLoVe of word / total tf-idf for document\n",
    "def doc_to_glove(doc):\n",
    "    doc_tf_idf = tf_idf_vec.transform([doc])\n",
    "    # print(doc_tf_idf[:10])\n",
    "    _, cols = doc_tf_idf[0].nonzero()\n",
    "    doc_vector = np.array([0.0]*50)\n",
    "    sum_tf_idf = 0\n",
    "    for col in cols:\n",
    "        word = col_to_word[col]\n",
    "        if word in glove_vectors:\n",
    "            # print(word, tf_idf[row, col], glove_vectors[word])\n",
    "            doc_vector += glove_vectors[word] * doc_tf_idf[0, col]\n",
    "            sum_tf_idf += doc_tf_idf[0, col]\n",
    "    doc_vector /= sum_tf_idf\n",
    "    return doc_vector\n",
    "print(train_all[0,0])\n",
    "print(doc_to_glove(train_all[0,0]))"
   ]
  },
  {
   "cell_type": "code",
   "execution_count": 10,
   "metadata": {},
   "outputs": [
    {
     "name": "stdout",
     "output_type": "stream",
     "text": [
      "0.5535534809145892 unrelated\n",
      "0.5282470466552575 unrelated\n",
      "0.6890198898441906 unrelated\n",
      "0.7059881583485804 unrelated\n",
      "0.6767240091383729 unrelated\n",
      "0.8597709774722934 discuss\n",
      "0.515454696508182 unrelated\n",
      "0.7553530329321586 unrelated\n",
      "0.5750419646307645 unrelated\n",
      "0.619126586785193 discuss\n"
     ]
    }
   ],
   "source": [
    "# Compute cosine similarity of GLoVe vectors for all headline-body pairs\n",
    "def cosine_similarity(doc):\n",
    "    return 1.0 - cosine(doc_to_glove(doc[0]), doc_to_glove(doc[1]))\n",
    "\n",
    "for i in range(10):\n",
    "    # unrelated should have lower than rest\n",
    "    print(cosine_similarity(train_all[i]), train_all[i, 2])"
   ]
  },
  {
   "cell_type": "code",
   "execution_count": 11,
   "metadata": {},
   "outputs": [
    {
     "name": "stdout",
     "output_type": "stream",
     "text": [
      "0.5535534809145892 unrelated\n",
      "0.5282470466552575 unrelated\n",
      "0.6890198898441906 unrelated\n",
      "0.7059881583485804 unrelated\n",
      "0.6767240091383729 unrelated\n",
      "0.8597709774722934 discuss\n",
      "0.515454696508182 unrelated\n",
      "0.7553530329321586 unrelated\n",
      "0.5750419646307645 unrelated\n",
      "0.619126586785193 discuss\n"
     ]
    }
   ],
   "source": [
    "# Compute the KL-Divergence of language model (LM) representations of the headline and the body\n",
    "eps = 0.1  # add a small value for every common word in the LM, as KL-divergence won't work if there are 0 values\n",
    "def kl_divergence(doc):\n",
    "    # Convert body and headline to bag of words representations\n",
    "    vec = CountVectorizer(stop_words='english')\n",
    "    vec_all = vec.fit_transform([doc[0], doc[1]])\n",
    "    vec_headline = np.squeeze(np.array(vec_all[0].todense()))\n",
    "    vec_body = np.squeeze(np.array(vec_all[1].todense()))\n",
    "    \n",
    "    # Compute a simple unigram LM of headline and body using bag of words / no. of words in doc\n",
    "    lm_headline = (vec_headline + eps) / np.sum(vec_headline)\n",
    "    lm_body = (vec_body + eps) / np.sum(vec_body)\n",
    "    \n",
    "    # Return KL-divergence of lm\n",
    "    return entropy(lm_headline, lm_body)\n",
    "\n",
    "for i in range(10):\n",
    "    # unrelated should have lower than rest\n",
    "    print(cosine_similarity(train_all[i]), train_all[i, 2])"
   ]
  },
  {
   "cell_type": "code",
   "execution_count": 12,
   "metadata": {},
   "outputs": [
    {
     "name": "stdout",
     "output_type": "stream",
     "text": [
      "0.0 unrelated\n",
      "0.0 unrelated\n",
      "0.0 unrelated\n",
      "0.0 unrelated\n",
      "0.07112217117626672 unrelated\n",
      "0.17053662451253543 discuss\n",
      "0.07745040665550863 unrelated\n",
      "0.0 unrelated\n",
      "0.0 unrelated\n",
      "0.14827452235042 discuss\n"
     ]
    }
   ],
   "source": [
    "# Other feature 1 - distinguish unrelated vs rest\n",
    "def ngram_match(doc):\n",
    "    # Returns how many times n-grams (up to 3-gram) that occur in the article's headline occur on the article's body.\n",
    "    vec = CountVectorizer(stop_words='english', ngram_range=(1, 3))\n",
    "    vec.fit([doc[0]])\n",
    "    vec_body = vec.transform([doc[1]])\n",
    "    return np.power((np.sum(vec_body) / len(doc[1])), 1 / np.e)\n",
    "    \n",
    "for i in range(10):\n",
    "    # unrelated should have lower than rest\n",
    "    print(ngram_match(train_all[i]), train_all[i, 2])"
   ]
  },
  {
   "cell_type": "code",
   "execution_count": 13,
   "metadata": {},
   "outputs": [],
   "source": [
    "# Other feature 2 - distinguish discuss vs agree/disagree\n",
    "def body_polarity(doc):\n",
    "    # TODO (should be lower for discuss compared to agree/disagree)\n",
    "    pass"
   ]
  },
  {
   "cell_type": "code",
   "execution_count": 14,
   "metadata": {},
   "outputs": [
    {
     "name": "stdout",
     "output_type": "stream",
     "text": [
      "0.7016 discuss\n",
      "0.9956 discuss\n",
      "0.9118 discuss\n",
      "0.8504 discuss\n",
      "0.128 discuss\n",
      "0.2836000000000001 agree\n",
      "0.10300000000000001 agree\n",
      "0.10170000000000001 agree\n",
      "1.036 agree\n",
      "1.1878 agree\n",
      "0.5766 disagree\n",
      "0.9019 disagree\n",
      "0.982 disagree\n",
      "0.592 disagree\n",
      "1.309 disagree\n"
     ]
    }
   ],
   "source": [
    "# Other feature 3 - distinguish agree vs disagree\n",
    "sent_analyser = SentimentIntensityAnalyzer()\n",
    "\n",
    "def sentiment_mismatch(doc):\n",
    "    return np.absolute(sent_analyser.polarity_scores(doc[0])['compound'] - sent_analyser.polarity_scores(doc[1])['compound'])\n",
    "# sentiment_mismatch doesn't do anything atm.. still predicts everything as discuss\n",
    "# Values seem to be random (agree not neccesarily lower, disagree not neccesarily higher)\n",
    "# Maybe use a feature based on no. of negative words similar to 'no's in the body? - more likely to be disagree\n",
    "    \n",
    "train_related = train_all[train_all[:, 2] == 'discuss']\n",
    "for i in range(5):\n",
    "    print(sentiment_mismatch(train_related[i]), train_related[i, 2])\n",
    "train_agree = train_all[train_all[:, 2] == 'agree']\n",
    "for i in range(5):\n",
    "    # Should be lower\n",
    "    print(sentiment_mismatch(train_agree[i]), train_agree[i, 2])\n",
    "train_disagree = train_all[train_all[:, 2] == 'disagree']\n",
    "for i in range(5):\n",
    "    # Should be higher\n",
    "    print(sentiment_mismatch(train_disagree[i]), train_disagree[i, 2])"
   ]
  },
  {
   "cell_type": "code",
   "execution_count": 15,
   "metadata": {},
   "outputs": [
    {
     "name": "stderr",
     "output_type": "stream",
     "text": [
      "100%|████████████████████████████████████████████████████████████████████████████| 44974/44974 [09:29<00:00, 78.98it/s]\n"
     ]
    },
    {
     "name": "stdout",
     "output_type": "stream",
     "text": [
      "[[0.55355348 1.86962794 0.        ]\n",
      " [0.52824705 1.60449225 0.        ]\n",
      " [0.68901989 1.4246976  0.        ]\n",
      " [0.70598816 1.87567355 0.        ]\n",
      " [0.67672401 0.98289503 0.07112217]]\n",
      "[3 3 3 3 3]\n"
     ]
    }
   ],
   "source": [
    "# Define function to convert (headline, body) to feature vectors for each document\n",
    "ftrs = [cosine_similarity, kl_divergence, ngram_match]\n",
    "def to_feature_array(doc):\n",
    "    vec = np.array([0.0] * len(ftrs))\n",
    "    for i in range(len(ftrs)):\n",
    "        vec[i] = ftrs[i](doc)\n",
    "    return vec\n",
    "\n",
    "# Initialise x and y for train dataset\n",
    "x_train = np.array([to_feature_array(doc) for doc in tqdm(train_all)])\n",
    "print(x_train[:5])\n",
    "\n",
    "le = LabelEncoder()\n",
    "y_train = le.fit_transform(list(train_all[:, 2]))\n",
    "print(y_train[:5])"
   ]
  },
  {
   "cell_type": "code",
   "execution_count": 16,
   "metadata": {},
   "outputs": [
    {
     "name": "stdout",
     "output_type": "stream",
     "text": [
      "[('g', 'agree'), ('r', 'disagree'), ('b', 'discuss'), ('y', 'unrelated')]\n"
     ]
    },
    {
     "data": {
      "image/png": "[encoded data removed]",
      "text/plain": [
       "<matplotlib.figure.Figure at 0x231ef2c0908>"
      ]
     },
     "metadata": {},
     "output_type": "display_data"
    }
   ],
   "source": [
    "# Plot GLoVe distance vs KL-Divergence on a coloured scatter plot with different colours for each label\n",
    "colours = np.array(['g', 'r', 'b', 'y'])\n",
    "plt.scatter(list(x_train[:, 0]), list(x_train[:, 1]), c=colours[y_train])\n",
    "plt.xlabel('Cosine Similarity of GLoVe vectors')\n",
    "plt.ylabel('KL Divergence of Unigram LMs')\n",
    "print([(colours[i], le.classes_[i]) for i in range(len(le.classes_))])\n",
    "plt.show()"
   ]
  },
  {
   "cell_type": "code",
   "execution_count": 17,
   "metadata": {},
   "outputs": [
    {
     "name": "stderr",
     "output_type": "stream",
     "text": [
      "100%|██████████████████████████████████████████████████████████████████████████████| 4998/4998 [01:04<00:00, 77.88it/s]\n"
     ]
    },
    {
     "name": "stdout",
     "output_type": "stream",
     "text": [
      "[[0.24636734 1.43331701 0.        ]\n",
      " [0.8920077  0.56629963 0.21663166]\n",
      " [0.81490458 1.07943033 0.        ]\n",
      " [0.65236995 1.43794598 0.        ]\n",
      " [0.69811698 2.08539841 0.        ]]\n"
     ]
    }
   ],
   "source": [
    "# Initialise x and y for validation dataset\n",
    "x_val = np.array([to_feature_array(doc) for doc in tqdm(val_all)])\n",
    "print(x_val[:5])"
   ]
  },
  {
   "cell_type": "code",
   "execution_count": 18,
   "metadata": {},
   "outputs": [
    {
     "data": {
      "text/plain": [
       "LogisticRegression(C=100.0, class_weight=None, dual=False, fit_intercept=True,\n",
       "          intercept_scaling=1, max_iter=100, multi_class='multinomial',\n",
       "          n_jobs=1, penalty='l2', random_state=0, solver='saga',\n",
       "          tol=0.0001, verbose=0, warm_start=False)"
      ]
     },
     "execution_count": 18,
     "metadata": {},
     "output_type": "execute_result"
    }
   ],
   "source": [
    "# TODO implement linear/logistic regression classifier using these features. Optimise params on validation set\n",
    "clf = LogisticRegression(C=1e2, random_state=0, multi_class='multinomial', solver='saga')\n",
    "# clf = GradientBoostingClassifier(n_estimators=200, random_state=14128, verbose=True)  # TODO temporary classifier\n",
    "clf.fit(x_train, y_train)"
   ]
  },
  {
   "cell_type": "code",
   "execution_count": 19,
   "metadata": {},
   "outputs": [
    {
     "name": "stdout",
     "output_type": "stream",
     "text": [
      "[3 2 3 3 3]\n"
     ]
    }
   ],
   "source": [
    "# Predict y for validation set\n",
    "y_pred = clf.predict(x_val)\n",
    "print(y_pred[:5])"
   ]
  },
  {
   "cell_type": "code",
   "execution_count": 20,
   "metadata": {},
   "outputs": [
    {
     "name": "stderr",
     "output_type": "stream",
     "text": [
      "C:\\Users\\user\\Anaconda3\\envs\\fnc\\lib\\site-packages\\sklearn\\preprocessing\\label.py:151: DeprecationWarning: The truth value of an empty array is ambiguous. Returning False, but in future this will result in an error. Use `array.size > 0` to check that an array is not empty.\n",
      "  if diff:\n"
     ]
    }
   ],
   "source": [
    "# Prepare dataset format for score_submission in scorer.py\n",
    "predicted = le.inverse_transform(y_pred)\n",
    "body_ids = [str(body_inverse_index[body]) for body in val_all[:, 1]]\n",
    "pred_for_cm = np.array([{'Headline': val_all[i, 0], 'Body ID': body_ids[i], 'Stance': predicted[i]} for i in range(len(val_all))])\n",
    "gold_for_cm = np.array([{'Headline': val_all[i, 0], 'Body ID': body_ids[i], 'Stance': val_all[i, 2]} for i in range(len(val_all))])"
   ]
  },
  {
   "cell_type": "code",
   "execution_count": 21,
   "metadata": {},
   "outputs": [
    {
     "name": "stdout",
     "output_type": "stream",
     "text": [
      "CONFUSION MATRIX:\n",
      "-------------------------------------------------------------\n",
      "|           |   agree   | disagree  |  discuss  | unrelated |\n",
      "-------------------------------------------------------------\n",
      "|   agree   |     0     |     0     |    340    |    28     |\n",
      "-------------------------------------------------------------\n",
      "| disagree  |     0     |     0     |    72     |    12     |\n",
      "-------------------------------------------------------------\n",
      "|  discuss  |     1     |     0     |    820    |    70     |\n",
      "-------------------------------------------------------------\n",
      "| unrelated |     0     |     0     |    66     |   3589    |\n",
      "-------------------------------------------------------------\n",
      "ACCURACY: 0.882\n",
      "\n",
      "MAX  - the best possible score (100% accuracy)\n",
      "NULL - score as if all predicted stances were unrelated\n",
      "TEST - score based on the provided predictions\n",
      "\n",
      "||    MAX    ||    NULL   ||    TEST   ||\n",
      "||  2256.75  ||  913.75   ||  1820.5   ||\n",
      "\n"
     ]
    }
   ],
   "source": [
    "# Score using scorer.py:\n",
    "test_score, cm = score_submission(gold_for_cm, pred_for_cm)\n",
    "null_score, max_score = score_defaults(gold_for_cm)\n",
    "print_confusion_matrix(cm)\n",
    "print(SCORE_REPORT.format(max_score, null_score, test_score))"
   ]
  },
  {
   "cell_type": "code",
   "execution_count": 22,
   "metadata": {},
   "outputs": [],
   "source": [
    "# save to .csv in the correct format (see data/scorer.py and data/train_stances.csv)\n",
    "pred_tosave = np.array([('Headline','Body ID','Stance')] + [(val_all[i, 0], body_ids[i], predicted[i]) for i in range(len(val_all))])\n",
    "gold_tosave = np.array([('Headline','Body ID','Stance')] + [(val_all[i, 0], body_ids[i], val_all[i, 2]) for i in range(len(val_all))])\n",
    "\n",
    "# TODO does not work ATM (UnicodeDecodeError) - try 'python scorer.py val_gold.csv val_predicted.csv' in data folder\n",
    "np.savetxt('data/val_predicted.csv', pred_tosave, delimiter=',', fmt='%s', encoding='utf-8', newline='\\n')\n",
    "np.savetxt('data/val_gold.csv', gold_tosave, delimiter=',', fmt='%s', encoding='utf-8', newline='\\n')"
   ]
  },
  {
   "cell_type": "code",
   "execution_count": 23,
   "metadata": {},
   "outputs": [],
   "source": [
    "# TODO analyse importance of each feature"
   ]
  },
  {
   "cell_type": "code",
   "execution_count": 24,
   "metadata": {},
   "outputs": [
    {
     "ename": "SyntaxError",
     "evalue": "invalid syntax (<ipython-input-24-f0fe3618356e>, line 2)",
     "output_type": "error",
     "traceback": [
      "\u001b[1;36m  File \u001b[1;32m\"<ipython-input-24-f0fe3618356e>\"\u001b[1;36m, line \u001b[1;32m2\u001b[0m\n\u001b[1;33m    ACCURACY: 0.834  ||  1604.25  ||  No Added Features (just Cosine and KL-Divergence)\u001b[0m\n\u001b[1;37m                      ^\u001b[0m\n\u001b[1;31mSyntaxError\u001b[0m\u001b[1;31m:\u001b[0m invalid syntax\n"
     ]
    }
   ],
   "source": [
    "GradientBoostingClassifier(n_estimators=200)\n",
    "ACCURACY: 0.834  ||  1604.25  ||  No Added Features (just Cosine and KL-Divergence)\n",
    "ACCURACY: 0.861  ||  1743.5   ||  'Raw' Unigram Match\n",
    "ACCURACY: 0.861  ||  1743.5   ||  1+log(x) Unigram Match\n",
    "ACCURACY: 0.860  ||  1743.5   ||  1-1/e^(x/2) Unigram Match\n",
    "ACCURACY: 0.884  ||  1834.5   ||  x/len(body) Unigram Match\n",
    "ACCURACY: 0.873  ||  1790.5   ||  log(x)/log(len(body)) Unigram Match\n",
    "ACCURACY: 0.884  ||  1834.25  ||  (x/len(body))^1/e Unigram Match\n",
    "    \n",
    "LogisticRegression(C=1e5)\n",
    "ACCURACY: 0.880  ||  1795.5   ||  (x/len(body))^1/e Unigram Match\n",
    "\n",
    "LogisticRegression(C=1e2, multi_class='multinomial', solver='saga')\n",
    "ACCURACY: 0.881  ||  1818.5   ||  (x/len(body))^1/e Unigram Match\n",
    "ACCURACY: 0.882  ||  1819.5   ||  (x/len(body))^1/e 2-gram Match\n",
    "ACCURACY: 0.882  ||  1820.5   ||  (x/len(body))^1/e 3-gram Match"
   ]
  }
 ],
 "metadata": {
  "kernelspec": {
   "display_name": "Python 3",
   "language": "python",
   "name": "python3"
  },
  "language_info": {
   "codemirror_mode": {
    "name": "ipython",
    "version": 3
   },
   "file_extension": ".py",
   "mimetype": "text/x-python",
   "name": "python",
   "nbconvert_exporter": "python",
   "pygments_lexer": "ipython3",
   "version": "3.6.4"
  }
 },
 "nbformat": 4,
 "nbformat_minor": 2
}
